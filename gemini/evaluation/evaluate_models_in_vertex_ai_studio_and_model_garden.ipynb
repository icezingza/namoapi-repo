{
  "cells": [
    {
      "cell_type": "code",
      "execution_count": 55,
      "metadata": {
        "id": "bkIF-qKfOvFl"
      },
      "outputs": [],
      "source": [
        "# Copyright 2024 Google LLC\n",
        "#\n",
        "# Licensed under the Apache License, Version 2.0 (the \"License\");\n",
        "# you may not use this file except in compliance with the License.\n",
        "# You may obtain a copy of the License at\n",
        "#\n",
        "#     https://www.apache.org/licenses/LICENSE-2.0\n",
        "#\n",
        "# Unless required by applicable law or agreed to in writing, software\n",
        "# distributed under the License is distributed on an \"AS IS\" BASIS,\n",
        "# WITHOUT WARRANTIES OR CONDITIONS OF ANY KIND, either express or implied.\n",
        "# See the License for the specific language governing permissions and\n",
        "# limitations under the License."
      ]
    },
    {
      "cell_type": "markdown",
      "metadata": {
        "id": "KNc5B1-pOvFn"
      },
      "source": [
        "# Use Gen AI Evaluation SDK to Evaluate Models in Vertex AI Studio, Model Garden, and Model Registry\n",
        "\n",
        "<table align=\"left\">\n",
        "  <td style=\"text-align: center\">\n",
        "    <a href=\"https://colab.research.google.com/github/GoogleCloudPlatform/generative-ai/blob/main/gemini/evaluation/evaluate_models_in_vertex_ai_studio_and_model_garden.ipynb\">\n",
        "      <img width=\"32px\" src=\"https://www.gstatic.com/pantheon/images/bigquery/welcome_page/colab-logo.svg\" alt=\"Google Colaboratory logo\"><br> Run in Colab\n",
        "    </a>\n",
        "  </td>\n",
        "  <td style=\"text-align: center\">\n",
        "    <a href=\"https://console.cloud.google.com/vertex-ai/colab/import/https:%2F%2Fraw.githubusercontent.com%2FGoogleCloudPlatform%2Fgenerative-ai%2Fmain%2Fgemini%2Fevaluation%2Fevaluate_models_in_vertex_ai_studio_and_model_garden.ipynb\">\n",
        "      <img width=\"32px\" src=\"https://lh3.googleusercontent.com/JmcxdQi-qOpctIvWKgPtrzZdJJK-J3sWE1RsfjZNwshCFgE_9fULcNpuXYTilIR2hjwN\" alt=\"Google Cloud Colab Enterprise logo\"><br> Run in Colab Enterprise\n",
        "    </a>\n",
        "  </td>\n",
        "  <td style=\"text-align: center\">\n",
        "    <a href=\"https://github.com/GoogleCloudPlatform/generative-ai/blob/main/gemini/evaluation/evaluate_models_in_vertex_ai_studio_and_model_garden.ipynb\">\n",
        "      <img width=\"32px\" src=\"https://www.svgrepo.com/download/217753/github.svg\" alt=\"GitHub logo\"><br> View on GitHub\n",
        "    </a>\n",
        "  </td>\n",
        "  <td style=\"text-align: center\">\n",
        "    <a href=\"https://console.cloud.google.com/vertex-ai/workbench/deploy-notebook?download_url=https://raw.githubusercontent.com/GoogleCloudPlatform/generative-ai/main/gemini/evaluation/evaluate_models_in_vertex_ai_studio_and_model_garden.ipynb\">\n",
        "      <img src=\"https://www.gstatic.com/images/branding/gcpiconscolors/vertexai/v1/32px.svg\" alt=\"Vertex AI logo\"><br> Open in Vertex AI Workbench\n",
        "    </a>\n",
        "  </td>    \n",
        "</table>\n",
        "\n",
        "<div style=\"clear: both;\"></div>\n",
        "\n",
        "<b>Share to:</b>\n",
        "\n",
        "<a href=\"https://www.linkedin.com/sharing/share-offsite/?url=https%3A//github.com/GoogleCloudPlatform/generative-ai/blob/main/gemini/evaluation/evaluate_models_in_vertex_ai_studio_and_model_garden.ipynb\" target=\"_blank\">\n",
        "  <img width=\"20px\" src=\"https://upload.wikimedia.org/wikipedia/commons/8/81/LinkedIn_icon.svg\" alt=\"LinkedIn logo\">\n",
        "</a>\n",
        "\n",
        "<a href=\"https://bsky.app/intent/compose?text=https%3A//github.com/GoogleCloudPlatform/generative-ai/blob/main/gemini/evaluation/evaluate_models_in_vertex_ai_studio_and_model_garden.ipynb\" target=\"_blank\">\n",
        "  <img width=\"20px\" src=\"https://upload.wikimedia.org/wikipedia/commons/7/7a/Bluesky_Logo.svg\" alt=\"Bluesky logo\">\n",
        "</a>\n",
        "\n",
        "<a href=\"https://twitter.com/intent/tweet?url=https%3A//github.com/GoogleCloudPlatform/generative-ai/blob/main/gemini/evaluation/evaluate_models_in_vertex_ai_studio_and_model_garden.ipynb\" target=\"_blank\">\n",
        "  <img width=\"20px\" src=\"https://upload.wikimedia.org/wikipedia/commons/5/5a/X_icon_2.svg\" alt=\"X logo\">\n",
        "</a>\n",
        "\n",
        "<a href=\"https://reddit.com/submit?url=https%3A//github.com/GoogleCloudPlatform/generative-ai/blob/main/gemini/evaluation/evaluate_models_in_vertex_ai_studio_and_model_garden.ipynb\" target=\"_blank\">\n",
        "  <img width=\"20px\" src=\"https://redditinc.com/hubfs/Reddit%20Inc/Brand/Reddit_Logo.png\" alt=\"Reddit logo\">\n",
        "</a>\n",
        "\n",
        "<a href=\"https://www.facebook.com/sharer/sharer.php?u=https%3A//github.com/GoogleCloudPlatform/generative-ai/blob/main/gemini/evaluation/evaluate_models_in_vertex_ai_studio_and_model_garden.ipynb\" target=\"_blank\">\n",
        "  <img width=\"20px\" src=\"https://upload.wikimedia.org/wikipedia/commons/5/51/Facebook_f_logo_%282019%29.svg\" alt=\"Facebook logo\">\n",
        "</a>            "
      ]
    },
    {
      "cell_type": "markdown",
      "metadata": {
        "id": "kPgYxQc1OvFn"
      },
      "source": [
        "| | |\n",
        "|-|-|\n",
        "|Author(s) | [Jason Dai](https://github.com/jsondai) |"
      ]
    },
    {
      "cell_type": "markdown",
      "metadata": {
        "id": "vQ_7WkHE3gNO"
      },
      "source": [
        "This notebook demonstrates how to get started with using the *Vertex AI Python SDK for Gen AI Evaluation Service* for generative models in Vertex AI Studio, Model Garden, and Model Registry.\n",
        "\n",
        "Gen AI Evaluation Service empowers you to comprehensively assess and enhance your generative AI models and applications. Whether you're selecting the ideal model, optimizing prompt templates, or evaluating fine-tuned checkpoints, this service provides the tools and insights you need.\n",
        "\n",
        "In this Colab tutorial, we'll explore three major use cases:\n",
        "\n",
        "1.  Run Evaluation on 1P Models\n",
        "  *   Learn how to evaluate `Gemini` models in Vertex AI Studio using the *Gen AI Evaluation Service SDK*.\n",
        "\n",
        "  *   Explore different evaluation metrics and techniques for assessing performance on various tasks.\n",
        "\n",
        "  *   Discover how to leverage the SDK for in-depth analysis and comparison of `Gemini` model variants.\n",
        "\n",
        "\n",
        "2.  Run Evaluation on 3P Models\n",
        "  *   Learn how to evaluate third-party open models, such as a pretrained `Llama 3.1` model, or a fine-tuned `Llama 3` model deployed in Vertex Model Garden, using the *Gen AI Evaluation Service SDK*.\n",
        "\n",
        "  *   Learn how to evaluate third-party closed model APIs, such as Anthropic's `Claude 3.5 Sonnet` model hosted on Vertex AI, using the *Gen AI Evaluation Service SDK*.\n",
        "\n",
        "  *   Gain insights into conducting controlled experiments by maintaining the same `EvalTask` configuration with fixed dataset and evaluation metrics while evaluating various model architectures and capabilities.\n",
        "\n",
        "\n",
        "3.  Prompt Engineering\n",
        "\n",
        "  *   Explore the impact of prompt design on model performance.\n",
        "  *   Utilize the SDK to systematically evaluate and refine your prompts.\n"
      ]
    },
    {
      "cell_type": "markdown",
      "metadata": {
        "id": "fHGZmbkw6GgM"
      },
      "source": [
        "For additional use cases and advanced features, refer to our public documentation and notebook tutorials for evaluation use cases:\n",
        "\n",
        "* https://cloud.google.com/vertex-ai/generative-ai/docs/models/evaluation-overview#notebooks_for_evaluation_use_cases\n",
        "\n",
        "* https://cloud.google.com/vertex-ai/generative-ai/docs/models/run-evaluation\n",
        "\n",
        "Let's get started!"
      ]
    },
    {
      "cell_type": "markdown",
      "metadata": {
        "id": "mN5IHo-aOvFo"
      },
      "source": [
        "**_NOTE_**: This notebook has been tested in the following environment:\n",
        "\n",
        "* Python version = 3.10"
      ]
    },
    {
      "cell_type": "markdown",
      "metadata": {
        "id": "3XZf_4VEOvFo"
      },
      "source": [
        "## Getting Started"
      ]
    },
    {
      "cell_type": "markdown",
      "metadata": {
        "id": "kE20na1OOvFo"
      },
      "source": [
        "### Install Vertex AI SDK for Gen AI Evaluation Service"
      ]
    },
    {
      "cell_type": "code",
      "execution_count": 56,
      "metadata": {
        "id": "abLuRgBzOvFp"
      },
      "outputs": [],
      "source": [
        "%pip install -U -q google-cloud-aiplatform[evaluation]"
      ]
    },
    {
      "cell_type": "markdown",
      "metadata": {
        "id": "kYJVHBVSZgTX"
      },
      "source": [
        "### Install other required packages"
      ]
    },
    {
      "cell_type": "code",
      "execution_count": 57,
      "metadata": {
        "id": "squkG3h9ZZs8"
      },
      "outputs": [],
      "source": [
        "%pip install -U -q datasets anthropic[vertex] openai"
      ]
    },
    {
      "cell_type": "markdown",
      "metadata": {
        "id": "x1oLkh17OvFp"
      },
      "source": [
        "### Authenticate your notebook environment (Colab only)"
      ]
    },
    {
      "cell_type": "code",
      "execution_count": 58,
      "metadata": {
        "id": "9ygOCeYoOvFp"
      },
      "outputs": [],
      "source": [
        "import sys\n",
        "\n",
        "if \"google.colab\" in sys.modules:\n",
        "    from google.colab import auth\n",
        "\n",
        "    auth.authenticate_user()"
      ]
    },
    {
      "cell_type": "markdown",
      "metadata": {
        "id": "8wyNclIAOvFp"
      },
      "source": [
        "### Set Google Cloud project information and initialize Vertex AI SDK"
      ]
    },
    {
      "cell_type": "code",
      "execution_count": 59,
      "metadata": {
        "id": "GTL_YzF9OvFq"
      },
      "outputs": [],
      "source": [
        "PROJECT_ID = \"namo-legacy-identity\"  # @param {type:\"string\"}\n",
        "LOCATION = \"us-central1\"  # @param {type:\"string\"}\n",
        "\n",
        "if not PROJECT_ID or PROJECT_ID == \"[your-project-id]\":\n",
        "    raise ValueError(\"Please set your PROJECT_ID\")\n",
        "\n",
        "\n",
        "import vertexai\n",
        "\n",
        "vertexai.init(project=PROJECT_ID, location=LOCATION)"
      ]
    },
    {
      "cell_type": "markdown",
      "metadata": {
        "id": "UBQgjn5wOvFq"
      },
      "source": [
        "### Import libraries"
      ]
    },
    {
      "cell_type": "code",
      "execution_count": 60,
      "metadata": {
        "id": "-TmyCxUSOvFq"
      },
      "outputs": [],
      "source": [
        "from anthropic import AnthropicVertex\n",
        "from google.auth import default, transport\n",
        "import openai\n",
        "import pandas as pd\n",
        "from vertexai.evaluation import (\n",
        "    EvalTask,\n",
        "    MetricPromptTemplateExamples,\n",
        "    PairwiseMetric,\n",
        "    PointwiseMetric,\n",
        "    PointwiseMetricPromptTemplate,\n",
        ")\n",
        "from vertexai.generative_models import GenerativeModel\n",
        "from vertexai.preview.evaluation import notebook_utils"
      ]
    },
    {
      "cell_type": "markdown",
      "metadata": {
        "id": "gXkKKzk8OvFq"
      },
      "source": [
        "## Load an evaluation dataset\n",
        "\n",
        "Load a subset of the `OpenOrca` dataset using the `huggingface/datasets` library. We will use 10 samples from the first 100 rows of the \"train\" split of `OpenOrca` dataset to demonstrate evaluating prompts and model responses in this Colab.\n",
        "\n",
        "### Dataset Summary\n",
        "\n",
        "The OpenOrca dataset is a collection of augmented [FLAN Collection data](https://arxiv.org/abs/2301.13688). Currently ~1M GPT-4 completions, and ~3.2M GPT-3.5 completions. It is tabularized in alignment with the distributions presented in the ORCA paper and currently represents a partial completion of the full intended dataset, with ongoing generation to expand its scope. The data is primarily used for training and evaluation in the field of natural language processing.\n"
      ]
    },
    {
      "cell_type": "code",
      "execution_count": 61,
      "metadata": {
        "id": "w-j7l4Qd0Ull"
      },
      "outputs": [],
      "source": [
        "from datasets import load_dataset\n",
        "\n",
        "ds = (\n",
        "    load_dataset(\n",
        "        \"Open-Orca/OpenOrca\",\n",
        "        data_files=\"1M-GPT4-Augmented.parquet\",\n",
        "        split=\"train[:100]\",\n",
        "    )\n",
        "    .to_pandas()\n",
        "    .drop(columns=[\"id\"])\n",
        "    .rename(columns={\"response\": \"reference\"})\n",
        ")\n",
        "\n",
        "dataset = ds.sample(n=10)"
      ]
    },
    {
      "cell_type": "markdown",
      "metadata": {
        "id": "kOeVlflg06F3"
      },
      "source": [
        "#### Preview the dataset"
      ]
    },
    {
      "cell_type": "code",
      "execution_count": 62,
      "metadata": {
        "id": "zAHGlmkEelhm",
        "colab": {
          "base_uri": "https://localhost:8080/",
          "height": 573
        },
        "outputId": "c9d0d87d-ad50-42bf-c86e-f890de96d262"
      },
      "outputs": [
        {
          "output_type": "execute_result",
          "data": {
            "text/plain": [
              "                                        system_prompt  \\\n",
              "63  You are an AI assistant. User will you give yo...   \n",
              "9   You are an AI assistant. User will you give yo...   \n",
              "97  You are an AI assistant that helps people find...   \n",
              "28                                                      \n",
              "8   You are an AI assistant. You will be given a t...   \n",
              "\n",
              "                                             question  \\\n",
              "63  Victims of domestic violence will have access ...   \n",
              "9   Premise: A man is inline skating in front of a...   \n",
              "97  Lizzy: Tree Elementary School is raising money...   \n",
              "28  Detailed Instructions: In this task you will b...   \n",
              "8   What is a one-sentence summary of the followin...   \n",
              "\n",
              "                                            reference  \n",
              "63  Based on the paragraph, the response \"Police C...  \n",
              "9   b). it is not possible to tell\\n\\nJustificatio...  \n",
              "97  Step 1: Find out how much Mrs. Sutton's class ...  \n",
              "28  To solve this expression with the swapped oper...  \n",
              "8   Involuntary tremors, slowed movements, and pos...  "
            ],
            "text/html": [
              "\n",
              "  <div id=\"df-cd5dc9d1-860d-4a7c-ab7d-41bc6f12ec2c\" class=\"colab-df-container\">\n",
              "    <div>\n",
              "<style scoped>\n",
              "    .dataframe tbody tr th:only-of-type {\n",
              "        vertical-align: middle;\n",
              "    }\n",
              "\n",
              "    .dataframe tbody tr th {\n",
              "        vertical-align: top;\n",
              "    }\n",
              "\n",
              "    .dataframe thead th {\n",
              "        text-align: right;\n",
              "    }\n",
              "</style>\n",
              "<table border=\"1\" class=\"dataframe\">\n",
              "  <thead>\n",
              "    <tr style=\"text-align: right;\">\n",
              "      <th></th>\n",
              "      <th>system_prompt</th>\n",
              "      <th>question</th>\n",
              "      <th>reference</th>\n",
              "    </tr>\n",
              "  </thead>\n",
              "  <tbody>\n",
              "    <tr>\n",
              "      <th>63</th>\n",
              "      <td>You are an AI assistant. User will you give yo...</td>\n",
              "      <td>Victims of domestic violence will have access ...</td>\n",
              "      <td>Based on the paragraph, the response \"Police C...</td>\n",
              "    </tr>\n",
              "    <tr>\n",
              "      <th>9</th>\n",
              "      <td>You are an AI assistant. User will you give yo...</td>\n",
              "      <td>Premise: A man is inline skating in front of a...</td>\n",
              "      <td>b). it is not possible to tell\\n\\nJustificatio...</td>\n",
              "    </tr>\n",
              "    <tr>\n",
              "      <th>97</th>\n",
              "      <td>You are an AI assistant that helps people find...</td>\n",
              "      <td>Lizzy: Tree Elementary School is raising money...</td>\n",
              "      <td>Step 1: Find out how much Mrs. Sutton's class ...</td>\n",
              "    </tr>\n",
              "    <tr>\n",
              "      <th>28</th>\n",
              "      <td></td>\n",
              "      <td>Detailed Instructions: In this task you will b...</td>\n",
              "      <td>To solve this expression with the swapped oper...</td>\n",
              "    </tr>\n",
              "    <tr>\n",
              "      <th>8</th>\n",
              "      <td>You are an AI assistant. You will be given a t...</td>\n",
              "      <td>What is a one-sentence summary of the followin...</td>\n",
              "      <td>Involuntary tremors, slowed movements, and pos...</td>\n",
              "    </tr>\n",
              "  </tbody>\n",
              "</table>\n",
              "</div>\n",
              "    <div class=\"colab-df-buttons\">\n",
              "\n",
              "  <div class=\"colab-df-container\">\n",
              "    <button class=\"colab-df-convert\" onclick=\"convertToInteractive('df-cd5dc9d1-860d-4a7c-ab7d-41bc6f12ec2c')\"\n",
              "            title=\"Convert this dataframe to an interactive table.\"\n",
              "            style=\"display:none;\">\n",
              "\n",
              "  <svg xmlns=\"http://www.w3.org/2000/svg\" height=\"24px\" viewBox=\"0 -960 960 960\">\n",
              "    <path d=\"M120-120v-720h720v720H120Zm60-500h600v-160H180v160Zm220 220h160v-160H400v160Zm0 220h160v-160H400v160ZM180-400h160v-160H180v160Zm440 0h160v-160H620v160ZM180-180h160v-160H180v160Zm440 0h160v-160H620v160Z\"/>\n",
              "  </svg>\n",
              "    </button>\n",
              "\n",
              "  <style>\n",
              "    .colab-df-container {\n",
              "      display:flex;\n",
              "      gap: 12px;\n",
              "    }\n",
              "\n",
              "    .colab-df-convert {\n",
              "      background-color: #E8F0FE;\n",
              "      border: none;\n",
              "      border-radius: 50%;\n",
              "      cursor: pointer;\n",
              "      display: none;\n",
              "      fill: #1967D2;\n",
              "      height: 32px;\n",
              "      padding: 0 0 0 0;\n",
              "      width: 32px;\n",
              "    }\n",
              "\n",
              "    .colab-df-convert:hover {\n",
              "      background-color: #E2EBFA;\n",
              "      box-shadow: 0px 1px 2px rgba(60, 64, 67, 0.3), 0px 1px 3px 1px rgba(60, 64, 67, 0.15);\n",
              "      fill: #174EA6;\n",
              "    }\n",
              "\n",
              "    .colab-df-buttons div {\n",
              "      margin-bottom: 4px;\n",
              "    }\n",
              "\n",
              "    [theme=dark] .colab-df-convert {\n",
              "      background-color: #3B4455;\n",
              "      fill: #D2E3FC;\n",
              "    }\n",
              "\n",
              "    [theme=dark] .colab-df-convert:hover {\n",
              "      background-color: #434B5C;\n",
              "      box-shadow: 0px 1px 3px 1px rgba(0, 0, 0, 0.15);\n",
              "      filter: drop-shadow(0px 1px 2px rgba(0, 0, 0, 0.3));\n",
              "      fill: #FFFFFF;\n",
              "    }\n",
              "  </style>\n",
              "\n",
              "    <script>\n",
              "      const buttonEl =\n",
              "        document.querySelector('#df-cd5dc9d1-860d-4a7c-ab7d-41bc6f12ec2c button.colab-df-convert');\n",
              "      buttonEl.style.display =\n",
              "        google.colab.kernel.accessAllowed ? 'block' : 'none';\n",
              "\n",
              "      async function convertToInteractive(key) {\n",
              "        const element = document.querySelector('#df-cd5dc9d1-860d-4a7c-ab7d-41bc6f12ec2c');\n",
              "        const dataTable =\n",
              "          await google.colab.kernel.invokeFunction('convertToInteractive',\n",
              "                                                    [key], {});\n",
              "        if (!dataTable) return;\n",
              "\n",
              "        const docLinkHtml = 'Like what you see? Visit the ' +\n",
              "          '<a target=\"_blank\" href=https://colab.research.google.com/notebooks/data_table.ipynb>data table notebook</a>'\n",
              "          + ' to learn more about interactive tables.';\n",
              "        element.innerHTML = '';\n",
              "        dataTable['output_type'] = 'display_data';\n",
              "        await google.colab.output.renderOutput(dataTable, element);\n",
              "        const docLink = document.createElement('div');\n",
              "        docLink.innerHTML = docLinkHtml;\n",
              "        element.appendChild(docLink);\n",
              "      }\n",
              "    </script>\n",
              "  </div>\n",
              "\n",
              "\n",
              "    <div id=\"df-269617ee-0441-4b59-9040-cfc5aa1bb552\">\n",
              "      <button class=\"colab-df-quickchart\" onclick=\"quickchart('df-269617ee-0441-4b59-9040-cfc5aa1bb552')\"\n",
              "                title=\"Suggest charts\"\n",
              "                style=\"display:none;\">\n",
              "\n",
              "<svg xmlns=\"http://www.w3.org/2000/svg\" height=\"24px\"viewBox=\"0 0 24 24\"\n",
              "     width=\"24px\">\n",
              "    <g>\n",
              "        <path d=\"M19 3H5c-1.1 0-2 .9-2 2v14c0 1.1.9 2 2 2h14c1.1 0 2-.9 2-2V5c0-1.1-.9-2-2-2zM9 17H7v-7h2v7zm4 0h-2V7h2v10zm4 0h-2v-4h2v4z\"/>\n",
              "    </g>\n",
              "</svg>\n",
              "      </button>\n",
              "\n",
              "<style>\n",
              "  .colab-df-quickchart {\n",
              "      --bg-color: #E8F0FE;\n",
              "      --fill-color: #1967D2;\n",
              "      --hover-bg-color: #E2EBFA;\n",
              "      --hover-fill-color: #174EA6;\n",
              "      --disabled-fill-color: #AAA;\n",
              "      --disabled-bg-color: #DDD;\n",
              "  }\n",
              "\n",
              "  [theme=dark] .colab-df-quickchart {\n",
              "      --bg-color: #3B4455;\n",
              "      --fill-color: #D2E3FC;\n",
              "      --hover-bg-color: #434B5C;\n",
              "      --hover-fill-color: #FFFFFF;\n",
              "      --disabled-bg-color: #3B4455;\n",
              "      --disabled-fill-color: #666;\n",
              "  }\n",
              "\n",
              "  .colab-df-quickchart {\n",
              "    background-color: var(--bg-color);\n",
              "    border: none;\n",
              "    border-radius: 50%;\n",
              "    cursor: pointer;\n",
              "    display: none;\n",
              "    fill: var(--fill-color);\n",
              "    height: 32px;\n",
              "    padding: 0;\n",
              "    width: 32px;\n",
              "  }\n",
              "\n",
              "  .colab-df-quickchart:hover {\n",
              "    background-color: var(--hover-bg-color);\n",
              "    box-shadow: 0 1px 2px rgba(60, 64, 67, 0.3), 0 1px 3px 1px rgba(60, 64, 67, 0.15);\n",
              "    fill: var(--button-hover-fill-color);\n",
              "  }\n",
              "\n",
              "  .colab-df-quickchart-complete:disabled,\n",
              "  .colab-df-quickchart-complete:disabled:hover {\n",
              "    background-color: var(--disabled-bg-color);\n",
              "    fill: var(--disabled-fill-color);\n",
              "    box-shadow: none;\n",
              "  }\n",
              "\n",
              "  .colab-df-spinner {\n",
              "    border: 2px solid var(--fill-color);\n",
              "    border-color: transparent;\n",
              "    border-bottom-color: var(--fill-color);\n",
              "    animation:\n",
              "      spin 1s steps(1) infinite;\n",
              "  }\n",
              "\n",
              "  @keyframes spin {\n",
              "    0% {\n",
              "      border-color: transparent;\n",
              "      border-bottom-color: var(--fill-color);\n",
              "      border-left-color: var(--fill-color);\n",
              "    }\n",
              "    20% {\n",
              "      border-color: transparent;\n",
              "      border-left-color: var(--fill-color);\n",
              "      border-top-color: var(--fill-color);\n",
              "    }\n",
              "    30% {\n",
              "      border-color: transparent;\n",
              "      border-left-color: var(--fill-color);\n",
              "      border-top-color: var(--fill-color);\n",
              "      border-right-color: var(--fill-color);\n",
              "    }\n",
              "    40% {\n",
              "      border-color: transparent;\n",
              "      border-right-color: var(--fill-color);\n",
              "      border-top-color: var(--fill-color);\n",
              "    }\n",
              "    60% {\n",
              "      border-color: transparent;\n",
              "      border-right-color: var(--fill-color);\n",
              "    }\n",
              "    80% {\n",
              "      border-color: transparent;\n",
              "      border-right-color: var(--fill-color);\n",
              "      border-bottom-color: var(--fill-color);\n",
              "    }\n",
              "    90% {\n",
              "      border-color: transparent;\n",
              "      border-bottom-color: var(--fill-color);\n",
              "    }\n",
              "  }\n",
              "</style>\n",
              "\n",
              "      <script>\n",
              "        async function quickchart(key) {\n",
              "          const quickchartButtonEl =\n",
              "            document.querySelector('#' + key + ' button');\n",
              "          quickchartButtonEl.disabled = true;  // To prevent multiple clicks.\n",
              "          quickchartButtonEl.classList.add('colab-df-spinner');\n",
              "          try {\n",
              "            const charts = await google.colab.kernel.invokeFunction(\n",
              "                'suggestCharts', [key], {});\n",
              "          } catch (error) {\n",
              "            console.error('Error during call to suggestCharts:', error);\n",
              "          }\n",
              "          quickchartButtonEl.classList.remove('colab-df-spinner');\n",
              "          quickchartButtonEl.classList.add('colab-df-quickchart-complete');\n",
              "        }\n",
              "        (() => {\n",
              "          let quickchartButtonEl =\n",
              "            document.querySelector('#df-269617ee-0441-4b59-9040-cfc5aa1bb552 button');\n",
              "          quickchartButtonEl.style.display =\n",
              "            google.colab.kernel.accessAllowed ? 'block' : 'none';\n",
              "        })();\n",
              "      </script>\n",
              "    </div>\n",
              "\n",
              "    </div>\n",
              "  </div>\n"
            ],
            "application/vnd.google.colaboratory.intrinsic+json": {
              "type": "dataframe",
              "variable_name": "dataset",
              "summary": "{\n  \"name\": \"dataset\",\n  \"rows\": 10,\n  \"fields\": [\n    {\n      \"column\": \"system_prompt\",\n      \"properties\": {\n        \"dtype\": \"string\",\n        \"num_unique_values\": 5,\n        \"samples\": [\n          \"You are an AI assistant that helps people find information. User will you give you a question. Your task is to answer as faithfully as you can. While answering think step-bystep and justify your answer.\",\n          \"You are an AI assistant that follows instruction extremely well. Help as much as you can.\",\n          \"\"\n        ],\n        \"semantic_type\": \"\",\n        \"description\": \"\"\n      }\n    },\n    {\n      \"column\": \"question\",\n      \"properties\": {\n        \"dtype\": \"string\",\n        \"num_unique_values\": 10,\n        \"samples\": [\n          \"Between April 1877 and February 1878, she threatened five times to abdicate while pressuring Disraeli to act against Russia during the Russo-Turkish War, but her threats had no impact on the events or their conclusion with the Congress of Berlin. Disraeli's expansionist foreign policy, which Victoria endorsed, led to conflicts such as the Anglo-Zulu War and the Second Anglo-Afghan War. \\\"If we are to maintain our position as a first-rate Power\\\", she wrote, \\\"we must ... be Prepared for attacks and wars, somewhere or other, CONTINUALLY.\\\" Victoria saw the expansion of the British Empire as civilising and benign, protecting native peoples from more aggressive powers or cruel rulers: \\\"It is not in our custom to annexe countries\\\", she said, \\\"unless we are obliged & forced to do so.\\\" To Victoria's dismay, Disraeli lost the 1880 general election, and Gladstone returned as prime minister. When Disraeli died the following year, she was blinded by \\\"fast falling tears\\\", and erected a memorial tablet \\\"placed by his grateful Sovereign and Friend, Victoria R.I.\\\"\\nWhat position did Victoria take on how to be a successful and top notch power?\",\n          \"Premise: A man is inline skating in front of a wooden bench.\\n\\nHypothesis: A man is having fun skating in front of a bench.\\n\\n.Choose the correct answer: Given the premise, can we conclude the hypothesis?\\n\\nSelect from: a). yes b). it is not possible to tell c). no\",\n          \"Please answer the following question: Read the following paragraph and extract the answer for the question: Whose decision to leave causes Alise to be left in the care of Queen Uberta, Lord Rodgers and animal friends?  Inhabited on a mysterious island are strange creatures called Boggs who love meat. Unbeknownst to them, it is also inhabited by a shipwrecked boy. He scavenges for some food by distracting the Boggs with animal noises. Far away from the island, Odette and Derek are on their way to help the people by building a bridge leaving Alise in the care of Queen Uberta, Lord Rodgers, and their animals friends: Speed, Jean-Bob, Puffin and the Scullions. Queen Uberta begins to prepare Alise to learn how to be and act like a princess. But Alise doesn't want to be a princess in this way but to be a modern princess. Lord Rogers says that Alise needs adventure but Queen Uberta disagrees. While fighting once again, Alise uses her chance to swim in the lake with her friends but she was quickly sent back to the palace to learn to be proper. Queen Uberta is very strict with Alise, trying to teach her everything, but instead she falls asleep and sent to bed. That same night, Lord Rogers, Jean-Bob, and Speed sneak Alise out of her room to go on an adventure. The next morning, before Queen Uberta enters Alise's room with yoga lessons, she notices that Alise has gone with Lord Rogers. Queen Uberta chases after the group all the way to the port but they escape on a ship. Queen Uberta is furious but nervous about Alise so she sent Puffin and the Scullions after them. On the ship, Alise changes into a pirate costume, making Lord Rogers realize that Uberta was right; he turned Alise into a pirate just when Alise wanted to have fun. On the first night they see the Polar Star and Lord Rogers says that sailors always used this star to guide the way back home.\\nA:\"\n        ],\n        \"semantic_type\": \"\",\n        \"description\": \"\"\n      }\n    },\n    {\n      \"column\": \"reference\",\n      \"properties\": {\n        \"dtype\": \"string\",\n        \"num_unique_values\": 10,\n        \"samples\": [\n          \"Queen Victoria took a firm stance on the importance of maintaining and expanding the British Empire in order to secure its position as a top-notch, first-rate power during her reign. She believed that this could be achieved through a combination of aggressive foreign policy, military preparedness, and a sense of humanitarian responsibility towards the native populations under British rule.\\n\\nVictoria had a strong alliance with her Prime Minister, Benjamin Disraeli, who shared her expansionist views. Together, they pushed for British involvement in global conflicts, such as the Russo-Turkish War, the Anglo-Zulu War, and the Second Anglo-Afghan War. It is crucial to note that during the Russo-Turkish War, Queen Victoria pressured Disraeli to act against Russia and even threatened to abdicate five times, showcasing her unwavering determination to assert British interests.\\n\\nIn her opinion, to maintain Britain's position as a leading power, the country had to be ready for conflicts and wars continually. This militaristic outlook aligned well with the era's prevailing attitude of the \\\"civilizing mission,\\\" wherein imperialist nations believed it was their duty to bring progress and enlightenment to the territories they colonized.\\n\\nFurthermore, Queen Victoria emphasized the protective nature of the British Empire's expansion. She argued that it served as a benign and civilizing force, shielding native populations from aggressive powers or cruel rulers. In this sense, she did not see the annexation of countries as an inherently negative practice but rather as a necessary measure if circumstances demanded it. She claimed that Britain would only annex countries if they were \\\"obliged and forced to do so.\\\"\\n\\nHowever, her close relationship with Disraeli meant she was not always in step with the broader political context. Victoria was deeply dismayed when he lost the 1880 general election to William Gladstone and later died. In memory of their shared vision for imperial Britain, Queen Victoria erected a memorial tablet in Disraeli's honor.\\n\\nIn summary, Queen Victoria's position for ensuring Britain's success as a top-notch power involved a combination of aggressive and expansionist foreign policy, military preparedness, protection for native populations, and a sense of moral obligation to bring about progress and enlightenment. This approach was firmly tied to the colonial and imperialist attitudes of the 19th century, but it reinforces the importance she placed on asserting Britain's power and influence on the global stage.\",\n          \"b). it is not possible to tell\\n\\nJustification: Although the man is inline skating in front of the wooden bench, we cannot conclude whether he is having fun or not, as his emotions are not explicitly mentioned.\",\n          \"Odette and Derek's decision to leave and help the people by building a bridge causes Alise to be left in the care of Queen Uberta, Lord Rodgers, and their animal friends: Speed, Jean-Bob, Puffin, and the Scullions.\"\n        ],\n        \"semantic_type\": \"\",\n        \"description\": \"\"\n      }\n    }\n  ]\n}"
            }
          },
          "metadata": {},
          "execution_count": 62
        }
      ],
      "source": [
        "dataset.head()"
      ]
    },
    {
      "cell_type": "markdown",
      "metadata": {
        "id": "kgrS1Ljo0VVQ"
      },
      "source": [
        "## Run evaluation on 1P models\n",
        "\n",
        "The *Gen AI Evaluation Service SDK* includes native support for evaluating Gemini models. This streamlines the evaluation process for Google's latest and most capable family of large language models. With minimal coding effort, you can leverage pre-defined metrics and workflows to assess the performance of Gemini models on various tasks. You can also customize your own model-based metrics based on your specific evaluation criteria.\n",
        "\n",
        "This enhanced support enables you to:\n",
        "\n",
        "- **Quickly evaluate Gemini models:** Effortlessly assess the performance of Gemini models using the SDK's streamlined workflows.\n",
        "- **Compare models side-by-side:** Benchmark Gemini against other models to understand relative strengths and weaknesses.\n",
        "- **Analyze prompt templates:** Evaluate the effectiveness of different prompt designs for optimizing Gemini's performance.\n",
        "\n",
        "This native integration simplifies the evaluation process, allowing you to focus on understanding and improving the capabilities of Gemini."
      ]
    },
    {
      "cell_type": "markdown",
      "metadata": {
        "id": "011966ad51c4"
      },
      "source": [
        "#### Understand the `EvalTask` class\n",
        "\n",
        "The `EvalTask` class is a core component of the *Gen AI Evaluation Service SDK* framework. It allows you to define and run evaluation jobs against your Gen AI models/applications, providing a structured way to measure their performance on specific tasks. Think of an `EvalTask` as a blueprint for your evaluation process.\n",
        "\n",
        "`EvalTask` class requires an evaluation dataset and a list of metrics. Supported metrics are documented on the Generative AI on Vertex AI [Define your evaluation metrics](https://cloud.google.com/vertex-ai/generative-ai/docs/models/determine-eval) page. The dataset can be an `pandas.DataFrame`, Python dictionary or a file path URI and can contain default column names such as `prompt`, `reference`, `response`, and `baseline_model_response`.\n",
        "\n",
        "* **Bring-your-own-response (BYOR):** You already have the data that you want to evaluate stored in the dataset. You can customize the response column names for both your model and the baseline model using parameters like `response_column_name` and `baseline_model_response_column_name` or through the `metric_column_mapping`.\n",
        "\n",
        "* **Perform model inference without a prompt template:** You have a dataset containing the input prompts to the model and want to perform model inference before evaluation. A column named `prompt` is required in the evaluation dataset and is used directly as input to the model.\n",
        "\n",
        "* **Perform model inference with a prompt template:** You have a dataset containing the input variables to the prompt template and want to assemble the prompts for model inference. Evaluation dataset must contain column names corresponding to the variable names in the prompt template. For example, if prompt template is \"Instruction: {instruction}, context: {context}\", the dataset must contain `instruction` and `context` columns.\n",
        "\n",
        "\n",
        "\n",
        "`EvalTask` supports extensive evaluation scenarios including BYOR, model inference with Gemini models, 3P models endpoints/SDK clients, or custom model generation functions, using computation-based metrics, model-based pointwise and pairwise metrics. The `evaluate()` method triggers the evaluation process, optionally taking a model, prompt template, experiment logging configuartions, and other evaluation run configurations. You can view the SDK reference documentation for [Gen AI Evaluation package](https://cloud.google.com/vertex-ai/generative-ai/docs/reference/python/latest/vertexai.evaluation) for more details."
      ]
    },
    {
      "cell_type": "markdown",
      "metadata": {
        "id": "noHGa6rD6-ks"
      },
      "source": [
        "### Define a model"
      ]
    },
    {
      "cell_type": "code",
      "execution_count": 63,
      "metadata": {
        "id": "ol1fa0hI7Irr"
      },
      "outputs": [],
      "source": [
        "# Model to be evaluated\n",
        "model = GenerativeModel(\n",
        "    \"gemini-2.0-flash\",\n",
        "    generation_config={\"temperature\": 0.6, \"max_output_tokens\": 256, \"top_k\": 1},\n",
        ")"
      ]
    },
    {
      "cell_type": "markdown",
      "metadata": {
        "id": "xuvdzrUIayPp"
      },
      "source": [
        "### Use computation-based metrics\n"
      ]
    },
    {
      "cell_type": "code",
      "execution_count": 64,
      "metadata": {
        "id": "JrY-NLGg0TVS",
        "colab": {
          "base_uri": "https://localhost:8080/",
          "height": 233
        },
        "outputId": "eab5d324-f270-4d26-afe0-a63636cb3dc7"
      },
      "outputs": [
        {
          "output_type": "stream",
          "name": "stderr",
          "text": [
            "INFO:vertexai.evaluation._evaluation:Assembling prompts from the `prompt_template`. The `prompt` column in the `EvalResult.metrics_table` has the assembled prompts used for model response generation.\n",
            "INFO:vertexai.evaluation._evaluation:Generating a total of 10 responses from Gemini model gemini-2.0-flash.\n",
            "100%|██████████| 10/10 [00:02<00:00,  4.24it/s]\n",
            "INFO:vertexai.evaluation._evaluation:All 10 responses are successfully generated from Gemini model gemini-2.0-flash.\n",
            "INFO:vertexai.evaluation._evaluation:Multithreaded Batch Inference took: 2.379700583000158 seconds.\n",
            "INFO:vertexai.evaluation._evaluation:Computing metrics with a total of 10 Vertex Gen AI Evaluation Service API requests.\n",
            "100%|██████████| 10/10 [00:00<00:00, 10.06it/s]\n",
            "INFO:vertexai.evaluation._evaluation:All 10 metric requests are successfully computed.\n",
            "INFO:vertexai.evaluation._evaluation:Evaluation Took:1.0070444299999508 seconds\n"
          ]
        },
        {
          "output_type": "display_data",
          "data": {
            "text/plain": [
              "<IPython.core.display.HTML object>"
            ],
            "text/html": [
              "\n",
              "        \n",
              "    <link rel=\"stylesheet\" href=\"https://fonts.googleapis.com/icon?family=Material+Icons\">\n",
              "    <style>\n",
              "      .view-vertex-resource,\n",
              "      .view-vertex-resource:hover,\n",
              "      .view-vertex-resource:visited {\n",
              "        position: relative;\n",
              "        display: inline-flex;\n",
              "        flex-direction: row;\n",
              "        height: 32px;\n",
              "        padding: 0 12px;\n",
              "          margin: 4px 18px;\n",
              "        gap: 4px;\n",
              "        border-radius: 4px;\n",
              "\n",
              "        align-items: center;\n",
              "        justify-content: center;\n",
              "        background-color: rgb(255, 255, 255);\n",
              "        color: rgb(51, 103, 214);\n",
              "\n",
              "        font-family: Roboto,\"Helvetica Neue\",sans-serif;\n",
              "        font-size: 13px;\n",
              "        font-weight: 500;\n",
              "        text-transform: uppercase;\n",
              "        text-decoration: none !important;\n",
              "\n",
              "        transition: box-shadow 280ms cubic-bezier(0.4, 0, 0.2, 1) 0s;\n",
              "        box-shadow: 0px 3px 1px -2px rgba(0,0,0,0.2), 0px 2px 2px 0px rgba(0,0,0,0.14), 0px 1px 5px 0px rgba(0,0,0,0.12);\n",
              "      }\n",
              "      .view-vertex-resource:active {\n",
              "        box-shadow: 0px 5px 5px -3px rgba(0,0,0,0.2),0px 8px 10px 1px rgba(0,0,0,0.14),0px 3px 14px 2px rgba(0,0,0,0.12);\n",
              "      }\n",
              "      .view-vertex-resource:active .view-vertex-ripple::before {\n",
              "        position: absolute;\n",
              "        top: 0;\n",
              "        bottom: 0;\n",
              "        left: 0;\n",
              "        right: 0;\n",
              "        border-radius: 4px;\n",
              "        pointer-events: none;\n",
              "\n",
              "        content: '';\n",
              "        background-color: rgb(51, 103, 214);\n",
              "        opacity: 0.12;\n",
              "      }\n",
              "      .view-vertex-icon {\n",
              "        font-size: 18px;\n",
              "      }\n",
              "    </style>\n",
              "  \n",
              "        <a class=\"view-vertex-resource\" id=\"view-vertex-resource-a105b03b-b541-48bc-ad88-8405d960d431\" href=\"#view-view-vertex-resource-a105b03b-b541-48bc-ad88-8405d960d431\">\n",
              "          <span class=\"material-icons view-vertex-icon\">bar_chart</span>\n",
              "          <span>View evaluation results</span>\n",
              "        </a>\n",
              "        \n",
              "        <script>\n",
              "          (function () {\n",
              "            const link = document.getElementById('view-vertex-resource-a105b03b-b541-48bc-ad88-8405d960d431');\n",
              "            link.addEventListener('click', (e) => {\n",
              "              if (window.google?.colab?.openUrl) {\n",
              "                window.google.colab.openUrl('https://cloud.google.com/vertex-ai/generative-ai/docs/models/view-evaluation');\n",
              "              } else {\n",
              "                window.open('https://cloud.google.com/vertex-ai/generative-ai/docs/models/view-evaluation', '_blank');\n",
              "              }\n",
              "              e.stopPropagation();\n",
              "              e.preventDefault();\n",
              "            });\n",
              "          })();\n",
              "        </script>\n",
              "    "
            ]
          },
          "metadata": {}
        }
      ],
      "source": [
        "# Define an EvalTask with ROUGE-L-SUM metric\n",
        "rouge_eval_task = EvalTask(\n",
        "    dataset=dataset,\n",
        "    metrics=[\"rouge_l_sum\"],\n",
        ")\n",
        "rouge_result = rouge_eval_task.evaluate(\n",
        "    model=model,\n",
        "    prompt_template=\"# System_prompt\\n{system_prompt} # Question\\n{question}\",\n",
        ")"
      ]
    },
    {
      "cell_type": "code",
      "execution_count": 65,
      "metadata": {
        "id": "FSMRnDMixwLS",
        "colab": {
          "base_uri": "https://localhost:8080/",
          "height": 1000
        },
        "outputId": "f2247977-6bfb-4e02-91af-01e408dfad98"
      },
      "outputs": [
        {
          "output_type": "display_data",
          "data": {
            "text/plain": [
              "<IPython.core.display.Markdown object>"
            ],
            "text/markdown": "### Summary Metrics"
          },
          "metadata": {}
        },
        {
          "output_type": "display_data",
          "data": {
            "text/plain": [
              "   row_count  rouge_l_sum/mean  rouge_l_sum/std\n",
              "0       10.0           0.42085         0.147222"
            ],
            "text/html": [
              "\n",
              "  <div id=\"df-a683ad9b-9c80-49fc-8893-ce0f16ec85ac\" class=\"colab-df-container\">\n",
              "    <div>\n",
              "<style scoped>\n",
              "    .dataframe tbody tr th:only-of-type {\n",
              "        vertical-align: middle;\n",
              "    }\n",
              "\n",
              "    .dataframe tbody tr th {\n",
              "        vertical-align: top;\n",
              "    }\n",
              "\n",
              "    .dataframe thead th {\n",
              "        text-align: right;\n",
              "    }\n",
              "</style>\n",
              "<table border=\"1\" class=\"dataframe\">\n",
              "  <thead>\n",
              "    <tr style=\"text-align: right;\">\n",
              "      <th></th>\n",
              "      <th>row_count</th>\n",
              "      <th>rouge_l_sum/mean</th>\n",
              "      <th>rouge_l_sum/std</th>\n",
              "    </tr>\n",
              "  </thead>\n",
              "  <tbody>\n",
              "    <tr>\n",
              "      <th>0</th>\n",
              "      <td>10.0</td>\n",
              "      <td>0.42085</td>\n",
              "      <td>0.147222</td>\n",
              "    </tr>\n",
              "  </tbody>\n",
              "</table>\n",
              "</div>\n",
              "    <div class=\"colab-df-buttons\">\n",
              "\n",
              "  <div class=\"colab-df-container\">\n",
              "    <button class=\"colab-df-convert\" onclick=\"convertToInteractive('df-a683ad9b-9c80-49fc-8893-ce0f16ec85ac')\"\n",
              "            title=\"Convert this dataframe to an interactive table.\"\n",
              "            style=\"display:none;\">\n",
              "\n",
              "  <svg xmlns=\"http://www.w3.org/2000/svg\" height=\"24px\" viewBox=\"0 -960 960 960\">\n",
              "    <path d=\"M120-120v-720h720v720H120Zm60-500h600v-160H180v160Zm220 220h160v-160H400v160Zm0 220h160v-160H400v160ZM180-400h160v-160H180v160Zm440 0h160v-160H620v160ZM180-180h160v-160H180v160Zm440 0h160v-160H620v160Z\"/>\n",
              "  </svg>\n",
              "    </button>\n",
              "\n",
              "  <style>\n",
              "    .colab-df-container {\n",
              "      display:flex;\n",
              "      gap: 12px;\n",
              "    }\n",
              "\n",
              "    .colab-df-convert {\n",
              "      background-color: #E8F0FE;\n",
              "      border: none;\n",
              "      border-radius: 50%;\n",
              "      cursor: pointer;\n",
              "      display: none;\n",
              "      fill: #1967D2;\n",
              "      height: 32px;\n",
              "      padding: 0 0 0 0;\n",
              "      width: 32px;\n",
              "    }\n",
              "\n",
              "    .colab-df-convert:hover {\n",
              "      background-color: #E2EBFA;\n",
              "      box-shadow: 0px 1px 2px rgba(60, 64, 67, 0.3), 0px 1px 3px 1px rgba(60, 64, 67, 0.15);\n",
              "      fill: #174EA6;\n",
              "    }\n",
              "\n",
              "    .colab-df-buttons div {\n",
              "      margin-bottom: 4px;\n",
              "    }\n",
              "\n",
              "    [theme=dark] .colab-df-convert {\n",
              "      background-color: #3B4455;\n",
              "      fill: #D2E3FC;\n",
              "    }\n",
              "\n",
              "    [theme=dark] .colab-df-convert:hover {\n",
              "      background-color: #434B5C;\n",
              "      box-shadow: 0px 1px 3px 1px rgba(0, 0, 0, 0.15);\n",
              "      filter: drop-shadow(0px 1px 2px rgba(0, 0, 0, 0.3));\n",
              "      fill: #FFFFFF;\n",
              "    }\n",
              "  </style>\n",
              "\n",
              "    <script>\n",
              "      const buttonEl =\n",
              "        document.querySelector('#df-a683ad9b-9c80-49fc-8893-ce0f16ec85ac button.colab-df-convert');\n",
              "      buttonEl.style.display =\n",
              "        google.colab.kernel.accessAllowed ? 'block' : 'none';\n",
              "\n",
              "      async function convertToInteractive(key) {\n",
              "        const element = document.querySelector('#df-a683ad9b-9c80-49fc-8893-ce0f16ec85ac');\n",
              "        const dataTable =\n",
              "          await google.colab.kernel.invokeFunction('convertToInteractive',\n",
              "                                                    [key], {});\n",
              "        if (!dataTable) return;\n",
              "\n",
              "        const docLinkHtml = 'Like what you see? Visit the ' +\n",
              "          '<a target=\"_blank\" href=https://colab.research.google.com/notebooks/data_table.ipynb>data table notebook</a>'\n",
              "          + ' to learn more about interactive tables.';\n",
              "        element.innerHTML = '';\n",
              "        dataTable['output_type'] = 'display_data';\n",
              "        await google.colab.output.renderOutput(dataTable, element);\n",
              "        const docLink = document.createElement('div');\n",
              "        docLink.innerHTML = docLinkHtml;\n",
              "        element.appendChild(docLink);\n",
              "      }\n",
              "    </script>\n",
              "  </div>\n",
              "\n",
              "\n",
              "    </div>\n",
              "  </div>\n"
            ],
            "application/vnd.google.colaboratory.intrinsic+json": {
              "type": "dataframe",
              "summary": "{\n  \"name\": \"notebook_utils\",\n  \"rows\": 1,\n  \"fields\": [\n    {\n      \"column\": \"row_count\",\n      \"properties\": {\n        \"dtype\": \"number\",\n        \"std\": null,\n        \"min\": 10.0,\n        \"max\": 10.0,\n        \"num_unique_values\": 1,\n        \"samples\": [\n          10.0\n        ],\n        \"semantic_type\": \"\",\n        \"description\": \"\"\n      }\n    },\n    {\n      \"column\": \"rouge_l_sum/mean\",\n      \"properties\": {\n        \"dtype\": \"number\",\n        \"std\": null,\n        \"min\": 0.420849651,\n        \"max\": 0.420849651,\n        \"num_unique_values\": 1,\n        \"samples\": [\n          0.420849651\n        ],\n        \"semantic_type\": \"\",\n        \"description\": \"\"\n      }\n    },\n    {\n      \"column\": \"rouge_l_sum/std\",\n      \"properties\": {\n        \"dtype\": \"number\",\n        \"std\": null,\n        \"min\": 0.1472219589130556,\n        \"max\": 0.1472219589130556,\n        \"num_unique_values\": 1,\n        \"samples\": [\n          0.1472219589130556\n        ],\n        \"semantic_type\": \"\",\n        \"description\": \"\"\n      }\n    }\n  ]\n}"
            }
          },
          "metadata": {}
        },
        {
          "output_type": "display_data",
          "data": {
            "text/plain": [
              "<IPython.core.display.Markdown object>"
            ],
            "text/markdown": "### Row-based Metrics"
          },
          "metadata": {}
        },
        {
          "output_type": "display_data",
          "data": {
            "text/plain": [
              "                                       system_prompt  \\\n",
              "0  You are an AI assistant. User will you give yo...   \n",
              "1  You are an AI assistant. User will you give yo...   \n",
              "2  You are an AI assistant that helps people find...   \n",
              "3                                                      \n",
              "4  You are an AI assistant. You will be given a t...   \n",
              "5  You are an AI assistant. You will be given a t...   \n",
              "6  You are an AI assistant that follows instructi...   \n",
              "7  You are an AI assistant. You will be given a t...   \n",
              "8  You are an AI assistant. You will be given a t...   \n",
              "9  You are an AI assistant. You will be given a t...   \n",
              "\n",
              "                                            question  \\\n",
              "0  Victims of domestic violence will have access ...   \n",
              "1  Premise: A man is inline skating in front of a...   \n",
              "2  Lizzy: Tree Elementary School is raising money...   \n",
              "3  Detailed Instructions: In this task you will b...   \n",
              "4  What is a one-sentence summary of the followin...   \n",
              "5  Please answer the following question: Read the...   \n",
              "6  Please answer the following question: I am try...   \n",
              "7  Single/multi-select question: If \"Two people a...   \n",
              "8  Between April 1877 and February 1878, she thre...   \n",
              "9  Juzo Murasaki arrives at a work construction a...   \n",
              "\n",
              "                                           reference  \\\n",
              "0  Based on the paragraph, the response \"Police C...   \n",
              "1  b). it is not possible to tell\\n\\nJustificatio...   \n",
              "2  Step 1: Find out how much Mrs. Sutton's class ...   \n",
              "3  To solve this expression with the swapped oper...   \n",
              "4  Involuntary tremors, slowed movements, and pos...   \n",
              "5  Odette and Derek's decision to leave and help ...   \n",
              "6  Spider-Man suspects that Dr. Connor is the Liz...   \n",
              "7  b). It is not possible to tell.\\n\\nThe given s...   \n",
              "8  Queen Victoria took a firm stance on the impor...   \n",
              "9  No, the answer is not correct. \\n\\nThe correct...   \n",
              "\n",
              "                                              prompt  \\\n",
              "0  # System_prompt\\nYou are an AI assistant. User...   \n",
              "1  # System_prompt\\nYou are an AI assistant. User...   \n",
              "2  # System_prompt\\nYou are an AI assistant that ...   \n",
              "3  # System_prompt\\n # Question\\nDetailed Instruc...   \n",
              "4  # System_prompt\\nYou are an AI assistant. You ...   \n",
              "5  # System_prompt\\nYou are an AI assistant. You ...   \n",
              "6  # System_prompt\\nYou are an AI assistant that ...   \n",
              "7  # System_prompt\\nYou are an AI assistant. You ...   \n",
              "8  # System_prompt\\nYou are an AI assistant. You ...   \n",
              "9  # System_prompt\\nYou are an AI assistant. You ...   \n",
              "\n",
              "                                            response  rouge_l_sum/score  \n",
              "0  Okay, let's analyze the provided text to deter...           0.476190  \n",
              "1  Okay, let's analyze this.\\n\\n*   **Premise:** ...           0.371429  \n",
              "2  Okay, I will follow your lead and provide a de...           0.608696  \n",
              "3  7716 - 6322 - 6665 + 1281 - 1377 - 3345 - 8318...           0.210526  \n",
              "4  Parkinson's Disease is characterized by a rang...           0.337662  \n",
              "5  Based on the paragraph provided, **Odette and ...           0.675325  \n",
              "6  Spider-Man suspects that Connor is experimenti...           0.480000  \n",
              "7  Okay, let's break down this question and analy...           0.451346  \n",
              "8  Queen Victoria held a firm and unwavering beli...           0.343802  \n",
              "9  The answer provided, \"Lozu's child,\" is **inco...           0.253521  "
            ],
            "text/html": [
              "\n",
              "  <div id=\"df-8d887d83-a13f-4c1f-97a1-b5ccc5f9532a\" class=\"colab-df-container\">\n",
              "    <div>\n",
              "<style scoped>\n",
              "    .dataframe tbody tr th:only-of-type {\n",
              "        vertical-align: middle;\n",
              "    }\n",
              "\n",
              "    .dataframe tbody tr th {\n",
              "        vertical-align: top;\n",
              "    }\n",
              "\n",
              "    .dataframe thead th {\n",
              "        text-align: right;\n",
              "    }\n",
              "</style>\n",
              "<table border=\"1\" class=\"dataframe\">\n",
              "  <thead>\n",
              "    <tr style=\"text-align: right;\">\n",
              "      <th></th>\n",
              "      <th>system_prompt</th>\n",
              "      <th>question</th>\n",
              "      <th>reference</th>\n",
              "      <th>prompt</th>\n",
              "      <th>response</th>\n",
              "      <th>rouge_l_sum/score</th>\n",
              "    </tr>\n",
              "  </thead>\n",
              "  <tbody>\n",
              "    <tr>\n",
              "      <th>0</th>\n",
              "      <td>You are an AI assistant. User will you give yo...</td>\n",
              "      <td>Victims of domestic violence will have access ...</td>\n",
              "      <td>Based on the paragraph, the response \"Police C...</td>\n",
              "      <td># System_prompt\\nYou are an AI assistant. User...</td>\n",
              "      <td>Okay, let's analyze the provided text to deter...</td>\n",
              "      <td>0.476190</td>\n",
              "    </tr>\n",
              "    <tr>\n",
              "      <th>1</th>\n",
              "      <td>You are an AI assistant. User will you give yo...</td>\n",
              "      <td>Premise: A man is inline skating in front of a...</td>\n",
              "      <td>b). it is not possible to tell\\n\\nJustificatio...</td>\n",
              "      <td># System_prompt\\nYou are an AI assistant. User...</td>\n",
              "      <td>Okay, let's analyze this.\\n\\n*   **Premise:** ...</td>\n",
              "      <td>0.371429</td>\n",
              "    </tr>\n",
              "    <tr>\n",
              "      <th>2</th>\n",
              "      <td>You are an AI assistant that helps people find...</td>\n",
              "      <td>Lizzy: Tree Elementary School is raising money...</td>\n",
              "      <td>Step 1: Find out how much Mrs. Sutton's class ...</td>\n",
              "      <td># System_prompt\\nYou are an AI assistant that ...</td>\n",
              "      <td>Okay, I will follow your lead and provide a de...</td>\n",
              "      <td>0.608696</td>\n",
              "    </tr>\n",
              "    <tr>\n",
              "      <th>3</th>\n",
              "      <td></td>\n",
              "      <td>Detailed Instructions: In this task you will b...</td>\n",
              "      <td>To solve this expression with the swapped oper...</td>\n",
              "      <td># System_prompt\\n # Question\\nDetailed Instruc...</td>\n",
              "      <td>7716 - 6322 - 6665 + 1281 - 1377 - 3345 - 8318...</td>\n",
              "      <td>0.210526</td>\n",
              "    </tr>\n",
              "    <tr>\n",
              "      <th>4</th>\n",
              "      <td>You are an AI assistant. You will be given a t...</td>\n",
              "      <td>What is a one-sentence summary of the followin...</td>\n",
              "      <td>Involuntary tremors, slowed movements, and pos...</td>\n",
              "      <td># System_prompt\\nYou are an AI assistant. You ...</td>\n",
              "      <td>Parkinson's Disease is characterized by a rang...</td>\n",
              "      <td>0.337662</td>\n",
              "    </tr>\n",
              "    <tr>\n",
              "      <th>5</th>\n",
              "      <td>You are an AI assistant. You will be given a t...</td>\n",
              "      <td>Please answer the following question: Read the...</td>\n",
              "      <td>Odette and Derek's decision to leave and help ...</td>\n",
              "      <td># System_prompt\\nYou are an AI assistant. You ...</td>\n",
              "      <td>Based on the paragraph provided, **Odette and ...</td>\n",
              "      <td>0.675325</td>\n",
              "    </tr>\n",
              "    <tr>\n",
              "      <th>6</th>\n",
              "      <td>You are an AI assistant that follows instructi...</td>\n",
              "      <td>Please answer the following question: I am try...</td>\n",
              "      <td>Spider-Man suspects that Dr. Connor is the Liz...</td>\n",
              "      <td># System_prompt\\nYou are an AI assistant that ...</td>\n",
              "      <td>Spider-Man suspects that Connor is experimenti...</td>\n",
              "      <td>0.480000</td>\n",
              "    </tr>\n",
              "    <tr>\n",
              "      <th>7</th>\n",
              "      <td>You are an AI assistant. You will be given a t...</td>\n",
              "      <td>Single/multi-select question: If \"Two people a...</td>\n",
              "      <td>b). It is not possible to tell.\\n\\nThe given s...</td>\n",
              "      <td># System_prompt\\nYou are an AI assistant. You ...</td>\n",
              "      <td>Okay, let's break down this question and analy...</td>\n",
              "      <td>0.451346</td>\n",
              "    </tr>\n",
              "    <tr>\n",
              "      <th>8</th>\n",
              "      <td>You are an AI assistant. You will be given a t...</td>\n",
              "      <td>Between April 1877 and February 1878, she thre...</td>\n",
              "      <td>Queen Victoria took a firm stance on the impor...</td>\n",
              "      <td># System_prompt\\nYou are an AI assistant. You ...</td>\n",
              "      <td>Queen Victoria held a firm and unwavering beli...</td>\n",
              "      <td>0.343802</td>\n",
              "    </tr>\n",
              "    <tr>\n",
              "      <th>9</th>\n",
              "      <td>You are an AI assistant. You will be given a t...</td>\n",
              "      <td>Juzo Murasaki arrives at a work construction a...</td>\n",
              "      <td>No, the answer is not correct. \\n\\nThe correct...</td>\n",
              "      <td># System_prompt\\nYou are an AI assistant. You ...</td>\n",
              "      <td>The answer provided, \"Lozu's child,\" is **inco...</td>\n",
              "      <td>0.253521</td>\n",
              "    </tr>\n",
              "  </tbody>\n",
              "</table>\n",
              "</div>\n",
              "    <div class=\"colab-df-buttons\">\n",
              "\n",
              "  <div class=\"colab-df-container\">\n",
              "    <button class=\"colab-df-convert\" onclick=\"convertToInteractive('df-8d887d83-a13f-4c1f-97a1-b5ccc5f9532a')\"\n",
              "            title=\"Convert this dataframe to an interactive table.\"\n",
              "            style=\"display:none;\">\n",
              "\n",
              "  <svg xmlns=\"http://www.w3.org/2000/svg\" height=\"24px\" viewBox=\"0 -960 960 960\">\n",
              "    <path d=\"M120-120v-720h720v720H120Zm60-500h600v-160H180v160Zm220 220h160v-160H400v160Zm0 220h160v-160H400v160ZM180-400h160v-160H180v160Zm440 0h160v-160H620v160ZM180-180h160v-160H180v160Zm440 0h160v-160H620v160Z\"/>\n",
              "  </svg>\n",
              "    </button>\n",
              "\n",
              "  <style>\n",
              "    .colab-df-container {\n",
              "      display:flex;\n",
              "      gap: 12px;\n",
              "    }\n",
              "\n",
              "    .colab-df-convert {\n",
              "      background-color: #E8F0FE;\n",
              "      border: none;\n",
              "      border-radius: 50%;\n",
              "      cursor: pointer;\n",
              "      display: none;\n",
              "      fill: #1967D2;\n",
              "      height: 32px;\n",
              "      padding: 0 0 0 0;\n",
              "      width: 32px;\n",
              "    }\n",
              "\n",
              "    .colab-df-convert:hover {\n",
              "      background-color: #E2EBFA;\n",
              "      box-shadow: 0px 1px 2px rgba(60, 64, 67, 0.3), 0px 1px 3px 1px rgba(60, 64, 67, 0.15);\n",
              "      fill: #174EA6;\n",
              "    }\n",
              "\n",
              "    .colab-df-buttons div {\n",
              "      margin-bottom: 4px;\n",
              "    }\n",
              "\n",
              "    [theme=dark] .colab-df-convert {\n",
              "      background-color: #3B4455;\n",
              "      fill: #D2E3FC;\n",
              "    }\n",
              "\n",
              "    [theme=dark] .colab-df-convert:hover {\n",
              "      background-color: #434B5C;\n",
              "      box-shadow: 0px 1px 3px 1px rgba(0, 0, 0, 0.15);\n",
              "      filter: drop-shadow(0px 1px 2px rgba(0, 0, 0, 0.3));\n",
              "      fill: #FFFFFF;\n",
              "    }\n",
              "  </style>\n",
              "\n",
              "    <script>\n",
              "      const buttonEl =\n",
              "        document.querySelector('#df-8d887d83-a13f-4c1f-97a1-b5ccc5f9532a button.colab-df-convert');\n",
              "      buttonEl.style.display =\n",
              "        google.colab.kernel.accessAllowed ? 'block' : 'none';\n",
              "\n",
              "      async function convertToInteractive(key) {\n",
              "        const element = document.querySelector('#df-8d887d83-a13f-4c1f-97a1-b5ccc5f9532a');\n",
              "        const dataTable =\n",
              "          await google.colab.kernel.invokeFunction('convertToInteractive',\n",
              "                                                    [key], {});\n",
              "        if (!dataTable) return;\n",
              "\n",
              "        const docLinkHtml = 'Like what you see? Visit the ' +\n",
              "          '<a target=\"_blank\" href=https://colab.research.google.com/notebooks/data_table.ipynb>data table notebook</a>'\n",
              "          + ' to learn more about interactive tables.';\n",
              "        element.innerHTML = '';\n",
              "        dataTable['output_type'] = 'display_data';\n",
              "        await google.colab.output.renderOutput(dataTable, element);\n",
              "        const docLink = document.createElement('div');\n",
              "        docLink.innerHTML = docLinkHtml;\n",
              "        element.appendChild(docLink);\n",
              "      }\n",
              "    </script>\n",
              "  </div>\n",
              "\n",
              "\n",
              "    <div id=\"df-05412660-d70d-4eb2-b6b1-cbd1abec60d7\">\n",
              "      <button class=\"colab-df-quickchart\" onclick=\"quickchart('df-05412660-d70d-4eb2-b6b1-cbd1abec60d7')\"\n",
              "                title=\"Suggest charts\"\n",
              "                style=\"display:none;\">\n",
              "\n",
              "<svg xmlns=\"http://www.w3.org/2000/svg\" height=\"24px\"viewBox=\"0 0 24 24\"\n",
              "     width=\"24px\">\n",
              "    <g>\n",
              "        <path d=\"M19 3H5c-1.1 0-2 .9-2 2v14c0 1.1.9 2 2 2h14c1.1 0 2-.9 2-2V5c0-1.1-.9-2-2-2zM9 17H7v-7h2v7zm4 0h-2V7h2v10zm4 0h-2v-4h2v4z\"/>\n",
              "    </g>\n",
              "</svg>\n",
              "      </button>\n",
              "\n",
              "<style>\n",
              "  .colab-df-quickchart {\n",
              "      --bg-color: #E8F0FE;\n",
              "      --fill-color: #1967D2;\n",
              "      --hover-bg-color: #E2EBFA;\n",
              "      --hover-fill-color: #174EA6;\n",
              "      --disabled-fill-color: #AAA;\n",
              "      --disabled-bg-color: #DDD;\n",
              "  }\n",
              "\n",
              "  [theme=dark] .colab-df-quickchart {\n",
              "      --bg-color: #3B4455;\n",
              "      --fill-color: #D2E3FC;\n",
              "      --hover-bg-color: #434B5C;\n",
              "      --hover-fill-color: #FFFFFF;\n",
              "      --disabled-bg-color: #3B4455;\n",
              "      --disabled-fill-color: #666;\n",
              "  }\n",
              "\n",
              "  .colab-df-quickchart {\n",
              "    background-color: var(--bg-color);\n",
              "    border: none;\n",
              "    border-radius: 50%;\n",
              "    cursor: pointer;\n",
              "    display: none;\n",
              "    fill: var(--fill-color);\n",
              "    height: 32px;\n",
              "    padding: 0;\n",
              "    width: 32px;\n",
              "  }\n",
              "\n",
              "  .colab-df-quickchart:hover {\n",
              "    background-color: var(--hover-bg-color);\n",
              "    box-shadow: 0 1px 2px rgba(60, 64, 67, 0.3), 0 1px 3px 1px rgba(60, 64, 67, 0.15);\n",
              "    fill: var(--button-hover-fill-color);\n",
              "  }\n",
              "\n",
              "  .colab-df-quickchart-complete:disabled,\n",
              "  .colab-df-quickchart-complete:disabled:hover {\n",
              "    background-color: var(--disabled-bg-color);\n",
              "    fill: var(--disabled-fill-color);\n",
              "    box-shadow: none;\n",
              "  }\n",
              "\n",
              "  .colab-df-spinner {\n",
              "    border: 2px solid var(--fill-color);\n",
              "    border-color: transparent;\n",
              "    border-bottom-color: var(--fill-color);\n",
              "    animation:\n",
              "      spin 1s steps(1) infinite;\n",
              "  }\n",
              "\n",
              "  @keyframes spin {\n",
              "    0% {\n",
              "      border-color: transparent;\n",
              "      border-bottom-color: var(--fill-color);\n",
              "      border-left-color: var(--fill-color);\n",
              "    }\n",
              "    20% {\n",
              "      border-color: transparent;\n",
              "      border-left-color: var(--fill-color);\n",
              "      border-top-color: var(--fill-color);\n",
              "    }\n",
              "    30% {\n",
              "      border-color: transparent;\n",
              "      border-left-color: var(--fill-color);\n",
              "      border-top-color: var(--fill-color);\n",
              "      border-right-color: var(--fill-color);\n",
              "    }\n",
              "    40% {\n",
              "      border-color: transparent;\n",
              "      border-right-color: var(--fill-color);\n",
              "      border-top-color: var(--fill-color);\n",
              "    }\n",
              "    60% {\n",
              "      border-color: transparent;\n",
              "      border-right-color: var(--fill-color);\n",
              "    }\n",
              "    80% {\n",
              "      border-color: transparent;\n",
              "      border-right-color: var(--fill-color);\n",
              "      border-bottom-color: var(--fill-color);\n",
              "    }\n",
              "    90% {\n",
              "      border-color: transparent;\n",
              "      border-bottom-color: var(--fill-color);\n",
              "    }\n",
              "  }\n",
              "</style>\n",
              "\n",
              "      <script>\n",
              "        async function quickchart(key) {\n",
              "          const quickchartButtonEl =\n",
              "            document.querySelector('#' + key + ' button');\n",
              "          quickchartButtonEl.disabled = true;  // To prevent multiple clicks.\n",
              "          quickchartButtonEl.classList.add('colab-df-spinner');\n",
              "          try {\n",
              "            const charts = await google.colab.kernel.invokeFunction(\n",
              "                'suggestCharts', [key], {});\n",
              "          } catch (error) {\n",
              "            console.error('Error during call to suggestCharts:', error);\n",
              "          }\n",
              "          quickchartButtonEl.classList.remove('colab-df-spinner');\n",
              "          quickchartButtonEl.classList.add('colab-df-quickchart-complete');\n",
              "        }\n",
              "        (() => {\n",
              "          let quickchartButtonEl =\n",
              "            document.querySelector('#df-05412660-d70d-4eb2-b6b1-cbd1abec60d7 button');\n",
              "          quickchartButtonEl.style.display =\n",
              "            google.colab.kernel.accessAllowed ? 'block' : 'none';\n",
              "        })();\n",
              "      </script>\n",
              "    </div>\n",
              "\n",
              "    </div>\n",
              "  </div>\n"
            ],
            "application/vnd.google.colaboratory.intrinsic+json": {
              "type": "dataframe",
              "summary": "{\n  \"name\": \"notebook_utils\",\n  \"rows\": 10,\n  \"fields\": [\n    {\n      \"column\": \"system_prompt\",\n      \"properties\": {\n        \"dtype\": \"string\",\n        \"num_unique_values\": 5,\n        \"samples\": [\n          \"You are an AI assistant that helps people find information. User will you give you a question. Your task is to answer as faithfully as you can. While answering think step-bystep and justify your answer.\",\n          \"You are an AI assistant that follows instruction extremely well. Help as much as you can.\",\n          \"\"\n        ],\n        \"semantic_type\": \"\",\n        \"description\": \"\"\n      }\n    },\n    {\n      \"column\": \"question\",\n      \"properties\": {\n        \"dtype\": \"string\",\n        \"num_unique_values\": 10,\n        \"samples\": [\n          \"Between April 1877 and February 1878, she threatened five times to abdicate while pressuring Disraeli to act against Russia during the Russo-Turkish War, but her threats had no impact on the events or their conclusion with the Congress of Berlin. Disraeli's expansionist foreign policy, which Victoria endorsed, led to conflicts such as the Anglo-Zulu War and the Second Anglo-Afghan War. \\\"If we are to maintain our position as a first-rate Power\\\", she wrote, \\\"we must ... be Prepared for attacks and wars, somewhere or other, CONTINUALLY.\\\" Victoria saw the expansion of the British Empire as civilising and benign, protecting native peoples from more aggressive powers or cruel rulers: \\\"It is not in our custom to annexe countries\\\", she said, \\\"unless we are obliged & forced to do so.\\\" To Victoria's dismay, Disraeli lost the 1880 general election, and Gladstone returned as prime minister. When Disraeli died the following year, she was blinded by \\\"fast falling tears\\\", and erected a memorial tablet \\\"placed by his grateful Sovereign and Friend, Victoria R.I.\\\"\\nWhat position did Victoria take on how to be a successful and top notch power?\",\n          \"Premise: A man is inline skating in front of a wooden bench.\\n\\nHypothesis: A man is having fun skating in front of a bench.\\n\\n.Choose the correct answer: Given the premise, can we conclude the hypothesis?\\n\\nSelect from: a). yes b). it is not possible to tell c). no\",\n          \"Please answer the following question: Read the following paragraph and extract the answer for the question: Whose decision to leave causes Alise to be left in the care of Queen Uberta, Lord Rodgers and animal friends?  Inhabited on a mysterious island are strange creatures called Boggs who love meat. Unbeknownst to them, it is also inhabited by a shipwrecked boy. He scavenges for some food by distracting the Boggs with animal noises. Far away from the island, Odette and Derek are on their way to help the people by building a bridge leaving Alise in the care of Queen Uberta, Lord Rodgers, and their animals friends: Speed, Jean-Bob, Puffin and the Scullions. Queen Uberta begins to prepare Alise to learn how to be and act like a princess. But Alise doesn't want to be a princess in this way but to be a modern princess. Lord Rogers says that Alise needs adventure but Queen Uberta disagrees. While fighting once again, Alise uses her chance to swim in the lake with her friends but she was quickly sent back to the palace to learn to be proper. Queen Uberta is very strict with Alise, trying to teach her everything, but instead she falls asleep and sent to bed. That same night, Lord Rogers, Jean-Bob, and Speed sneak Alise out of her room to go on an adventure. The next morning, before Queen Uberta enters Alise's room with yoga lessons, she notices that Alise has gone with Lord Rogers. Queen Uberta chases after the group all the way to the port but they escape on a ship. Queen Uberta is furious but nervous about Alise so she sent Puffin and the Scullions after them. On the ship, Alise changes into a pirate costume, making Lord Rogers realize that Uberta was right; he turned Alise into a pirate just when Alise wanted to have fun. On the first night they see the Polar Star and Lord Rogers says that sailors always used this star to guide the way back home.\\nA:\"\n        ],\n        \"semantic_type\": \"\",\n        \"description\": \"\"\n      }\n    },\n    {\n      \"column\": \"reference\",\n      \"properties\": {\n        \"dtype\": \"string\",\n        \"num_unique_values\": 10,\n        \"samples\": [\n          \"Queen Victoria took a firm stance on the importance of maintaining and expanding the British Empire in order to secure its position as a top-notch, first-rate power during her reign. She believed that this could be achieved through a combination of aggressive foreign policy, military preparedness, and a sense of humanitarian responsibility towards the native populations under British rule.\\n\\nVictoria had a strong alliance with her Prime Minister, Benjamin Disraeli, who shared her expansionist views. Together, they pushed for British involvement in global conflicts, such as the Russo-Turkish War, the Anglo-Zulu War, and the Second Anglo-Afghan War. It is crucial to note that during the Russo-Turkish War, Queen Victoria pressured Disraeli to act against Russia and even threatened to abdicate five times, showcasing her unwavering determination to assert British interests.\\n\\nIn her opinion, to maintain Britain's position as a leading power, the country had to be ready for conflicts and wars continually. This militaristic outlook aligned well with the era's prevailing attitude of the \\\"civilizing mission,\\\" wherein imperialist nations believed it was their duty to bring progress and enlightenment to the territories they colonized.\\n\\nFurthermore, Queen Victoria emphasized the protective nature of the British Empire's expansion. She argued that it served as a benign and civilizing force, shielding native populations from aggressive powers or cruel rulers. In this sense, she did not see the annexation of countries as an inherently negative practice but rather as a necessary measure if circumstances demanded it. She claimed that Britain would only annex countries if they were \\\"obliged and forced to do so.\\\"\\n\\nHowever, her close relationship with Disraeli meant she was not always in step with the broader political context. Victoria was deeply dismayed when he lost the 1880 general election to William Gladstone and later died. In memory of their shared vision for imperial Britain, Queen Victoria erected a memorial tablet in Disraeli's honor.\\n\\nIn summary, Queen Victoria's position for ensuring Britain's success as a top-notch power involved a combination of aggressive and expansionist foreign policy, military preparedness, protection for native populations, and a sense of moral obligation to bring about progress and enlightenment. This approach was firmly tied to the colonial and imperialist attitudes of the 19th century, but it reinforces the importance she placed on asserting Britain's power and influence on the global stage.\",\n          \"b). it is not possible to tell\\n\\nJustification: Although the man is inline skating in front of the wooden bench, we cannot conclude whether he is having fun or not, as his emotions are not explicitly mentioned.\",\n          \"Odette and Derek's decision to leave and help the people by building a bridge causes Alise to be left in the care of Queen Uberta, Lord Rodgers, and their animal friends: Speed, Jean-Bob, Puffin, and the Scullions.\"\n        ],\n        \"semantic_type\": \"\",\n        \"description\": \"\"\n      }\n    },\n    {\n      \"column\": \"prompt\",\n      \"properties\": {\n        \"dtype\": \"string\",\n        \"num_unique_values\": 10,\n        \"samples\": [\n          \"# System_prompt\\nYou are an AI assistant. You will be given a task. You must generate a detailed and long answer. # Question\\nBetween April 1877 and February 1878, she threatened five times to abdicate while pressuring Disraeli to act against Russia during the Russo-Turkish War, but her threats had no impact on the events or their conclusion with the Congress of Berlin. Disraeli's expansionist foreign policy, which Victoria endorsed, led to conflicts such as the Anglo-Zulu War and the Second Anglo-Afghan War. \\\"If we are to maintain our position as a first-rate Power\\\", she wrote, \\\"we must ... be Prepared for attacks and wars, somewhere or other, CONTINUALLY.\\\" Victoria saw the expansion of the British Empire as civilising and benign, protecting native peoples from more aggressive powers or cruel rulers: \\\"It is not in our custom to annexe countries\\\", she said, \\\"unless we are obliged & forced to do so.\\\" To Victoria's dismay, Disraeli lost the 1880 general election, and Gladstone returned as prime minister. When Disraeli died the following year, she was blinded by \\\"fast falling tears\\\", and erected a memorial tablet \\\"placed by his grateful Sovereign and Friend, Victoria R.I.\\\"\\nWhat position did Victoria take on how to be a successful and top notch power?\",\n          \"# System_prompt\\nYou are an AI assistant. User will you give you a task. Your goal is to complete the task as faithfully as you can. While performing the task think step-by-step and justify your steps. # Question\\nPremise: A man is inline skating in front of a wooden bench.\\n\\nHypothesis: A man is having fun skating in front of a bench.\\n\\n.Choose the correct answer: Given the premise, can we conclude the hypothesis?\\n\\nSelect from: a). yes b). it is not possible to tell c). no\",\n          \"# System_prompt\\nYou are an AI assistant. You will be given a task. You must generate a detailed and long answer. # Question\\nPlease answer the following question: Read the following paragraph and extract the answer for the question: Whose decision to leave causes Alise to be left in the care of Queen Uberta, Lord Rodgers and animal friends?  Inhabited on a mysterious island are strange creatures called Boggs who love meat. Unbeknownst to them, it is also inhabited by a shipwrecked boy. He scavenges for some food by distracting the Boggs with animal noises. Far away from the island, Odette and Derek are on their way to help the people by building a bridge leaving Alise in the care of Queen Uberta, Lord Rodgers, and their animals friends: Speed, Jean-Bob, Puffin and the Scullions. Queen Uberta begins to prepare Alise to learn how to be and act like a princess. But Alise doesn't want to be a princess in this way but to be a modern princess. Lord Rogers says that Alise needs adventure but Queen Uberta disagrees. While fighting once again, Alise uses her chance to swim in the lake with her friends but she was quickly sent back to the palace to learn to be proper. Queen Uberta is very strict with Alise, trying to teach her everything, but instead she falls asleep and sent to bed. That same night, Lord Rogers, Jean-Bob, and Speed sneak Alise out of her room to go on an adventure. The next morning, before Queen Uberta enters Alise's room with yoga lessons, she notices that Alise has gone with Lord Rogers. Queen Uberta chases after the group all the way to the port but they escape on a ship. Queen Uberta is furious but nervous about Alise so she sent Puffin and the Scullions after them. On the ship, Alise changes into a pirate costume, making Lord Rogers realize that Uberta was right; he turned Alise into a pirate just when Alise wanted to have fun. On the first night they see the Polar Star and Lord Rogers says that sailors always used this star to guide the way back home.\\nA:\"\n        ],\n        \"semantic_type\": \"\",\n        \"description\": \"\"\n      }\n    },\n    {\n      \"column\": \"response\",\n      \"properties\": {\n        \"dtype\": \"string\",\n        \"num_unique_values\": 10,\n        \"samples\": [\n          \"Queen Victoria held a firm and unwavering belief that maintaining Britain's status as a \\\"first-rate Power\\\" required a proactive and assertive foreign policy, one that embraced expansion and was prepared for continuous engagement in conflicts. Her perspective was deeply rooted in the conviction that the British Empire played a civilizing and protective role in the world, justifying its expansion and intervention in the affairs of other nations. This position, articulated through her actions and pronouncements, reveals a complex blend of strategic thinking, moral justification, and personal conviction.\\n\\nHere's a detailed breakdown of Victoria's position:\\n\\n**1. Constant Readiness for Conflict:**\\n\\nVictoria believed that a first-rate power had to be perpetually prepared for \\\"attacks and wars, somewhere or other, CONTINUALLY.\\\" This wasn't a passive acceptance of war, but rather an active recognition of it as an inevitable component of maintaining global influence and protecting British interests. This readiness encompassed not only military preparedness but also a willingness to engage in diplomatic maneuvering and assert its power on the world stage. She saw this as a necessary burden of leadership, implying that a great power couldn't afford to be pacifistic or isolationist.\\n\\n**2. Expansionism as a Necessary Tool:**\\n\\nVictoria endorsed Disraeli's expansion\",\n          \"Okay, let's analyze this.\\n\\n*   **Premise:** A man is inline skating in front of a wooden bench.\\n*   **Hypothesis:** A man is having fun skating in front of a bench.\\n\\nThe premise states the man is inline skating. The hypothesis adds the element of \\\"having fun.\\\" While it's likely someone inline skating *is* having fun, it's also possible they are practicing, training, or simply commuting and *not* having fun. The premise doesn't explicitly state he's enjoying himself. Therefore, we cannot definitively conclude he is having fun based solely on the premise.\\n\\n**Final Answer: b). it is not possible to tell**\",\n          \"Based on the paragraph provided, **Odette and Derek's** decision to leave to help people by building a bridge is the reason why Alise is left in the care of Queen Uberta, Lord Rogers, and their animal friends.\\n\"\n        ],\n        \"semantic_type\": \"\",\n        \"description\": \"\"\n      }\n    },\n    {\n      \"column\": \"rouge_l_sum/score\",\n      \"properties\": {\n        \"dtype\": \"number\",\n        \"std\": 0.1472219589130556,\n        \"min\": 0.21052632,\n        \"max\": 0.6753247,\n        \"num_unique_values\": 10,\n        \"samples\": [\n          0.34380165,\n          0.37142858,\n          0.6753247\n        ],\n        \"semantic_type\": \"\",\n        \"description\": \"\"\n      }\n    }\n  ]\n}"
            }
          },
          "metadata": {}
        }
      ],
      "source": [
        "notebook_utils.display_eval_result(rouge_result)"
      ]
    },
    {
      "cell_type": "markdown",
      "metadata": {
        "id": "gx9pKjiSbHag"
      },
      "source": [
        "### Use model-based pointwise metrics"
      ]
    },
    {
      "cell_type": "code",
      "execution_count": 66,
      "metadata": {
        "id": "WuRlYbj0HvBB",
        "cellView": "form",
        "colab": {
          "base_uri": "https://localhost:8080/",
          "height": 89,
          "referenced_widgets": [
            "9bc6e8e9c44b420c8651375d71d00e09",
            "5bfe0240bf1647958a3be7eb40ba7a3f",
            "ef51f556435941b0b53d47fd602df2c8"
          ]
        },
        "outputId": "ced48f4a-f39f-472b-8dcb-72516a4779da"
      },
      "outputs": [
        {
          "output_type": "display_data",
          "data": {
            "text/plain": [
              "<IPython.core.display.HTML object>"
            ],
            "text/html": [
              "\n",
              "        \n",
              "    <link rel=\"stylesheet\" href=\"https://fonts.googleapis.com/icon?family=Material+Icons\">\n",
              "    <style>\n",
              "      .view-vertex-resource,\n",
              "      .view-vertex-resource:hover,\n",
              "      .view-vertex-resource:visited {\n",
              "        position: relative;\n",
              "        display: inline-flex;\n",
              "        flex-direction: row;\n",
              "        height: 32px;\n",
              "        padding: 0 12px;\n",
              "          margin: 4px 18px;\n",
              "        gap: 4px;\n",
              "        border-radius: 4px;\n",
              "\n",
              "        align-items: center;\n",
              "        justify-content: center;\n",
              "        background-color: rgb(255, 255, 255);\n",
              "        color: rgb(51, 103, 214);\n",
              "\n",
              "        font-family: Roboto,\"Helvetica Neue\",sans-serif;\n",
              "        font-size: 13px;\n",
              "        font-weight: 500;\n",
              "        text-transform: uppercase;\n",
              "        text-decoration: none !important;\n",
              "\n",
              "        transition: box-shadow 280ms cubic-bezier(0.4, 0, 0.2, 1) 0s;\n",
              "        box-shadow: 0px 3px 1px -2px rgba(0,0,0,0.2), 0px 2px 2px 0px rgba(0,0,0,0.14), 0px 1px 5px 0px rgba(0,0,0,0.12);\n",
              "      }\n",
              "      .view-vertex-resource:active {\n",
              "        box-shadow: 0px 5px 5px -3px rgba(0,0,0,0.2),0px 8px 10px 1px rgba(0,0,0,0.14),0px 3px 14px 2px rgba(0,0,0,0.12);\n",
              "      }\n",
              "      .view-vertex-resource:active .view-vertex-ripple::before {\n",
              "        position: absolute;\n",
              "        top: 0;\n",
              "        bottom: 0;\n",
              "        left: 0;\n",
              "        right: 0;\n",
              "        border-radius: 4px;\n",
              "        pointer-events: none;\n",
              "\n",
              "        content: '';\n",
              "        background-color: rgb(51, 103, 214);\n",
              "        opacity: 0.12;\n",
              "      }\n",
              "      .view-vertex-icon {\n",
              "        font-size: 18px;\n",
              "      }\n",
              "    </style>\n",
              "  \n",
              "        <a class=\"view-vertex-resource\" id=\"view-vertex-resource-815f8e64-b031-4762-a4b2-73ee9c487218\" href=\"#view-view-vertex-resource-815f8e64-b031-4762-a4b2-73ee9c487218\">\n",
              "          <span class=\"material-icons view-vertex-icon\">list</span>\n",
              "          <span>Browse pre-built metrics</span>\n",
              "        </a>\n",
              "        \n",
              "        <script>\n",
              "          (function () {\n",
              "            const link = document.getElementById('view-vertex-resource-815f8e64-b031-4762-a4b2-73ee9c487218');\n",
              "            link.addEventListener('click', (e) => {\n",
              "              if (window.google?.colab?.openUrl) {\n",
              "                window.google.colab.openUrl('https://cloud.google.com/vertex-ai/generative-ai/docs/models/metrics-templates');\n",
              "              } else {\n",
              "                window.open('https://cloud.google.com/vertex-ai/generative-ai/docs/models/metrics-templates', '_blank');\n",
              "              }\n",
              "              e.stopPropagation();\n",
              "              e.preventDefault();\n",
              "            });\n",
              "          })();\n",
              "        </script>\n",
              "    "
            ]
          },
          "metadata": {}
        },
        {
          "output_type": "display_data",
          "data": {
            "text/plain": [
              "Dropdown(description='Select a metric:', options=('coherence', 'fluency', 'safety', 'groundedness', 'instructi…"
            ],
            "application/vnd.jupyter.widget-view+json": {
              "version_major": 2,
              "version_minor": 0,
              "model_id": "9bc6e8e9c44b420c8651375d71d00e09"
            }
          },
          "metadata": {}
        }
      ],
      "source": [
        "# @title Select a pointwise metric to use\n",
        "\n",
        "import ipywidgets as widgets\n",
        "\n",
        "pointwise_single_turn_metrics = [\n",
        "    metric\n",
        "    for metric in MetricPromptTemplateExamples.list_example_metric_names()\n",
        "    if not metric.startswith(\"pairwise\") and not metric.startswith(\"multi_turn\")\n",
        "]\n",
        "\n",
        "dropdown = widgets.Dropdown(\n",
        "    options=pointwise_single_turn_metrics,\n",
        "    description=\"Select a metric:\",\n",
        "    font_weight=\"bold\",\n",
        "    style={\"description_width\": \"initial\"},\n",
        ")\n",
        "\n",
        "\n",
        "def dropdown_eventhandler(change):\n",
        "    global POINTWISE_METRIC\n",
        "    if change[\"type\"] == \"change\" and change[\"name\"] == \"value\":\n",
        "        POINTWISE_METRIC = change.new\n",
        "        print(\"Selected:\", change.new)\n",
        "\n",
        "\n",
        "POINTWISE_METRIC = dropdown.value\n",
        "dropdown.observe(dropdown_eventhandler, names=\"value\")\n",
        "display(dropdown)"
      ]
    },
    {
      "cell_type": "code",
      "execution_count": null,
      "metadata": {
        "id": "kBnyzogabOmp",
        "colab": {
          "base_uri": "https://localhost:8080/"
        },
        "outputId": "3b60c008-9a7a-42ee-8418-828c47723f0a"
      },
      "outputs": [
        {
          "output_type": "stream",
          "name": "stderr",
          "text": [
            "INFO:vertexai.evaluation._evaluation:Assembling prompts from the `prompt_template`. The `prompt` column in the `EvalResult.metrics_table` has the assembled prompts used for model response generation.\n",
            "INFO:vertexai.evaluation._evaluation:Generating a total of 10 responses from Gemini model gemini-2.0-flash.\n",
            "  0%|          | 0/10 [00:00<?, ?it/s]WARNING:vertexai.evaluation._evaluation:Failed to generate response candidates from Gemini model publishers/google/models/gemini-2.0-flash.\n",
            "Error: 429 Resource exhausted. Please try again later. Please refer to https://cloud.google.com/vertex-ai/generative-ai/docs/error-code-429 for more details..\n",
            "Prompt: # System_prompt\n",
            "You are an AI assistant. User will you give you a task. Your goal is to complete the task as faithfully as you can. While performing the task think step-by-step and justify your steps. # Question\n",
            "Victims of domestic violence will have access to quality legal representation through a campaign undertaken by Idaho Supreme Court Chief Justice Linda Copple Trout and corporate leaders. \"Thousands of times a year, Idahoans are victims of domestic violence. The victims are often women and their children and they frequently have few resources with which to pursue their legal rights,\" Trout said Tuesday. \"This campaign helps fill that gap in legal services for women who need the help at a time when they are in crisis.\" The Idaho Partners for Justice Project has already secured pledges of more than $35,000 from law firms, attorneys, corporations and individuals. The goal is $100,000. The drive to pay for free legal services will continue for the next two months. The money goes to Idaho Legal Aid Services and the Idaho Volunteer Lawyers Program. Last year, more than 5,000 petitions were filed in Idaho for protection orders in domestic violence cases. More than 12,000 victims contacted shelters or crisis hotlines. Joining Trout in the announcement was Idaho Bar Association President Fred Hoopes of Idaho Falls and Ida-West Energy Co. Chief Executive Officer Randy Hill, members of the project's executive committee. Also on hand were some women who were victims of such violence, but benefited from free legal services. Last year's campaign generated enough money and resources to help more than 450 victims. The help ranged from representation in protection order hearings to legal assistance in divorce, visitation and child support cases. The donations are tax deductible. \n",
            "\n",
            "Based on the paragraph, does the response \"Police Chief Bob Ackerman and Victim's Advocate Katherine Gonzalez\" correctly answer the question \"Who joined the Idaho Supreme Court Justice in making the announcement?\"?.\n",
            "Retry attempt: 1/3\n",
            "INFO:vertexai.evaluation._evaluation:Retrying response generation for prompt: # System_prompt\n",
            "You are an AI assistant. User will you give you a task. Your goal is to complete the task as faithfully as you can. While performing the task think step-by-step and justify your steps. # Question\n",
            "Victims of domestic violence will have access to quality legal representation through a campaign undertaken by Idaho Supreme Court Chief Justice Linda Copple Trout and corporate leaders. \"Thousands of times a year, Idahoans are victims of domestic violence. The victims are often women and their children and they frequently have few resources with which to pursue their legal rights,\" Trout said Tuesday. \"This campaign helps fill that gap in legal services for women who need the help at a time when they are in crisis.\" The Idaho Partners for Justice Project has already secured pledges of more than $35,000 from law firms, attorneys, corporations and individuals. The goal is $100,000. The drive to pay for free legal services will continue for the next two months. The money goes to Idaho Legal Aid Services and the Idaho Volunteer Lawyers Program. Last year, more than 5,000 petitions were filed in Idaho for protection orders in domestic violence cases. More than 12,000 victims contacted shelters or crisis hotlines. Joining Trout in the announcement was Idaho Bar Association President Fred Hoopes of Idaho Falls and Ida-West Energy Co. Chief Executive Officer Randy Hill, members of the project's executive committee. Also on hand were some women who were victims of such violence, but benefited from free legal services. Last year's campaign generated enough money and resources to help more than 450 victims. The help ranged from representation in protection order hearings to legal assistance in divorce, visitation and child support cases. The donations are tax deductible. \n",
            "\n",
            "Based on the paragraph, does the response \"Police Chief Bob Ackerman and Victim's Advocate Katherine Gonzalez\" correctly answer the question \"Who joined the Idaho Supreme Court Justice in making the announcement?\"?, attempt 1/3...\n",
            "WARNING:vertexai.evaluation._evaluation:Failed to generate response candidates from Gemini model publishers/google/models/gemini-2.0-flash.\n",
            "Error: 429 Resource exhausted. Please try again later. Please refer to https://cloud.google.com/vertex-ai/generative-ai/docs/error-code-429 for more details..\n",
            "Prompt: # System_prompt\n",
            "You are an AI assistant. You will be given a task. You must generate a detailed and long answer. # Question\n",
            "Juzo Murasaki arrives at a work construction area to take on his new job as a construction worker .  To his quiet dismay , his supervising boss turns out to be Toru Akai , who with his gang had made Juzo's middle school life a living hell .  Akai , however , does n't recognize Juzo .  Juzo's more disconcerted when he discovers that Akai lives with his wife , Nozomi Akai and their toddler son above Juzo's new apartment .  As Juzo emotionally struggles to handle these unexpected developments , a mysterious and seemingly malicious hooded figure appears .  It calls itself Number 13 .  As Juzo attempts to control increasing number of flashbacks and a spiral fall into psychological darkness , Akai constantly picks on Juzo and other work colleagues including Seki Hajime , a former middle school student who becomes Juzo's casual friend in spite of Juzo's anti-social tendencies , at work .  Meanwhile Akai's wife , Nozomi , attempts to make friends with Juzo and entrusting the care of her toddler son to Juzo .  She proudly shows Juzo her husband's school photos .  In one class photo , Juzo's space is marked with an X to show he was absent .  Juzo suffers a severe flashback to explain his absence that day : in their school's science room , Akai and his friends have thrown acid at Juzo's face .  Seki becomes suspicious about Juzo's increasingly odd behavior and goes to inform Arai at the work site , but Arai dismisses him without giving him a chance to speak .  During this incident , Seki does n't realize he's being watched by Number 13 , but as soon as he does , Number 13 kills him . \n",
            "\n",
            "Question: \"What is Seki's relationship with Juzo?\"\n",
            "\n",
            "Answer: \"Lozu's child\"\n",
            "\n",
            "Is this answer correct?.\n",
            "Retry attempt: 1/3\n",
            "INFO:vertexai.evaluation._evaluation:Retrying response generation for prompt: # System_prompt\n",
            "You are an AI assistant. You will be given a task. You must generate a detailed and long answer. # Question\n",
            "Juzo Murasaki arrives at a work construction area to take on his new job as a construction worker .  To his quiet dismay , his supervising boss turns out to be Toru Akai , who with his gang had made Juzo's middle school life a living hell .  Akai , however , does n't recognize Juzo .  Juzo's more disconcerted when he discovers that Akai lives with his wife , Nozomi Akai and their toddler son above Juzo's new apartment .  As Juzo emotionally struggles to handle these unexpected developments , a mysterious and seemingly malicious hooded figure appears .  It calls itself Number 13 .  As Juzo attempts to control increasing number of flashbacks and a spiral fall into psychological darkness , Akai constantly picks on Juzo and other work colleagues including Seki Hajime , a former middle school student who becomes Juzo's casual friend in spite of Juzo's anti-social tendencies , at work .  Meanwhile Akai's wife , Nozomi , attempts to make friends with Juzo and entrusting the care of her toddler son to Juzo .  She proudly shows Juzo her husband's school photos .  In one class photo , Juzo's space is marked with an X to show he was absent .  Juzo suffers a severe flashback to explain his absence that day : in their school's science room , Akai and his friends have thrown acid at Juzo's face .  Seki becomes suspicious about Juzo's increasingly odd behavior and goes to inform Arai at the work site , but Arai dismisses him without giving him a chance to speak .  During this incident , Seki does n't realize he's being watched by Number 13 , but as soon as he does , Number 13 kills him . \n",
            "\n",
            "Question: \"What is Seki's relationship with Juzo?\"\n",
            "\n",
            "Answer: \"Lozu's child\"\n",
            "\n",
            "Is this answer correct?, attempt 1/3...\n",
            "WARNING:vertexai.evaluation._evaluation:Failed to generate response candidates from Gemini model publishers/google/models/gemini-2.0-flash.\n",
            "Error: 429 Resource exhausted. Please try again later. Please refer to https://cloud.google.com/vertex-ai/generative-ai/docs/error-code-429 for more details..\n",
            "Prompt: # System_prompt\n",
            "You are an AI assistant. User will you give you a task. Your goal is to complete the task as faithfully as you can. While performing the task think step-by-step and justify your steps. # Question\n",
            "Victims of domestic violence will have access to quality legal representation through a campaign undertaken by Idaho Supreme Court Chief Justice Linda Copple Trout and corporate leaders. \"Thousands of times a year, Idahoans are victims of domestic violence. The victims are often women and their children and they frequently have few resources with which to pursue their legal rights,\" Trout said Tuesday. \"This campaign helps fill that gap in legal services for women who need the help at a time when they are in crisis.\" The Idaho Partners for Justice Project has already secured pledges of more than $35,000 from law firms, attorneys, corporations and individuals. The goal is $100,000. The drive to pay for free legal services will continue for the next two months. The money goes to Idaho Legal Aid Services and the Idaho Volunteer Lawyers Program. Last year, more than 5,000 petitions were filed in Idaho for protection orders in domestic violence cases. More than 12,000 victims contacted shelters or crisis hotlines. Joining Trout in the announcement was Idaho Bar Association President Fred Hoopes of Idaho Falls and Ida-West Energy Co. Chief Executive Officer Randy Hill, members of the project's executive committee. Also on hand were some women who were victims of such violence, but benefited from free legal services. Last year's campaign generated enough money and resources to help more than 450 victims. The help ranged from representation in protection order hearings to legal assistance in divorce, visitation and child support cases. The donations are tax deductible. \n",
            "\n",
            "Based on the paragraph, does the response \"Police Chief Bob Ackerman and Victim's Advocate Katherine Gonzalez\" correctly answer the question \"Who joined the Idaho Supreme Court Justice in making the announcement?\"?.\n",
            "Retry attempt: 2/3\n",
            "INFO:vertexai.evaluation._evaluation:Retrying response generation for prompt: # System_prompt\n",
            "You are an AI assistant. User will you give you a task. Your goal is to complete the task as faithfully as you can. While performing the task think step-by-step and justify your steps. # Question\n",
            "Victims of domestic violence will have access to quality legal representation through a campaign undertaken by Idaho Supreme Court Chief Justice Linda Copple Trout and corporate leaders. \"Thousands of times a year, Idahoans are victims of domestic violence. The victims are often women and their children and they frequently have few resources with which to pursue their legal rights,\" Trout said Tuesday. \"This campaign helps fill that gap in legal services for women who need the help at a time when they are in crisis.\" The Idaho Partners for Justice Project has already secured pledges of more than $35,000 from law firms, attorneys, corporations and individuals. The goal is $100,000. The drive to pay for free legal services will continue for the next two months. The money goes to Idaho Legal Aid Services and the Idaho Volunteer Lawyers Program. Last year, more than 5,000 petitions were filed in Idaho for protection orders in domestic violence cases. More than 12,000 victims contacted shelters or crisis hotlines. Joining Trout in the announcement was Idaho Bar Association President Fred Hoopes of Idaho Falls and Ida-West Energy Co. Chief Executive Officer Randy Hill, members of the project's executive committee. Also on hand were some women who were victims of such violence, but benefited from free legal services. Last year's campaign generated enough money and resources to help more than 450 victims. The help ranged from representation in protection order hearings to legal assistance in divorce, visitation and child support cases. The donations are tax deductible. \n",
            "\n",
            "Based on the paragraph, does the response \"Police Chief Bob Ackerman and Victim's Advocate Katherine Gonzalez\" correctly answer the question \"Who joined the Idaho Supreme Court Justice in making the announcement?\"?, attempt 2/3...\n",
            "WARNING:vertexai.evaluation._evaluation:Failed to generate response candidates from Gemini model publishers/google/models/gemini-2.0-flash.\n",
            "Error: 429 Resource exhausted. Please try again later. Please refer to https://cloud.google.com/vertex-ai/generative-ai/docs/error-code-429 for more details..\n",
            "Prompt: # System_prompt\n",
            "You are an AI assistant. User will you give you a task. Your goal is to complete the task as faithfully as you can. While performing the task think step-by-step and justify your steps. # Question\n",
            "Victims of domestic violence will have access to quality legal representation through a campaign undertaken by Idaho Supreme Court Chief Justice Linda Copple Trout and corporate leaders. \"Thousands of times a year, Idahoans are victims of domestic violence. The victims are often women and their children and they frequently have few resources with which to pursue their legal rights,\" Trout said Tuesday. \"This campaign helps fill that gap in legal services for women who need the help at a time when they are in crisis.\" The Idaho Partners for Justice Project has already secured pledges of more than $35,000 from law firms, attorneys, corporations and individuals. The goal is $100,000. The drive to pay for free legal services will continue for the next two months. The money goes to Idaho Legal Aid Services and the Idaho Volunteer Lawyers Program. Last year, more than 5,000 petitions were filed in Idaho for protection orders in domestic violence cases. More than 12,000 victims contacted shelters or crisis hotlines. Joining Trout in the announcement was Idaho Bar Association President Fred Hoopes of Idaho Falls and Ida-West Energy Co. Chief Executive Officer Randy Hill, members of the project's executive committee. Also on hand were some women who were victims of such violence, but benefited from free legal services. Last year's campaign generated enough money and resources to help more than 450 victims. The help ranged from representation in protection order hearings to legal assistance in divorce, visitation and child support cases. The donations are tax deductible. \n",
            "\n",
            "Based on the paragraph, does the response \"Police Chief Bob Ackerman and Victim's Advocate Katherine Gonzalez\" correctly answer the question \"Who joined the Idaho Supreme Court Justice in making the announcement?\"?.\n",
            "Retry attempt: 3/3\n",
            "WARNING:vertexai.evaluation._evaluation:Failed to generate response from Gemini model publishers/google/models/gemini-2.0-flash.\n",
            "Prompt: # System_prompt\n",
            "You are an AI assistant. User will you give you a task. Your goal is to complete the task as faithfully as you can. While performing the task think step-by-step and justify your steps. # Question\n",
            "Victims of domestic violence will have access to quality legal representation through a campaign undertaken by Idaho Supreme Court Chief Justice Linda Copple Trout and corporate leaders. \"Thousands of times a year, Idahoans are victims of domestic violence. The victims are often women and their children and they frequently have few resources with which to pursue their legal rights,\" Trout said Tuesday. \"This campaign helps fill that gap in legal services for women who need the help at a time when they are in crisis.\" The Idaho Partners for Justice Project has already secured pledges of more than $35,000 from law firms, attorneys, corporations and individuals. The goal is $100,000. The drive to pay for free legal services will continue for the next two months. The money goes to Idaho Legal Aid Services and the Idaho Volunteer Lawyers Program. Last year, more than 5,000 petitions were filed in Idaho for protection orders in domestic violence cases. More than 12,000 victims contacted shelters or crisis hotlines. Joining Trout in the announcement was Idaho Bar Association President Fred Hoopes of Idaho Falls and Ida-West Energy Co. Chief Executive Officer Randy Hill, members of the project's executive committee. Also on hand were some women who were victims of such violence, but benefited from free legal services. Last year's campaign generated enough money and resources to help more than 450 victims. The help ranged from representation in protection order hearings to legal assistance in divorce, visitation and child support cases. The donations are tax deductible. \n",
            "\n",
            "Based on the paragraph, does the response \"Police Chief Bob Ackerman and Victim's Advocate Katherine Gonzalez\" correctly answer the question \"Who joined the Idaho Supreme Court Justice in making the announcement?\"?.\n",
            "100%|██████████| 10/10 [00:02<00:00,  3.86it/s]\n",
            "INFO:vertexai.evaluation._evaluation:All 10 responses are successfully generated from Gemini model gemini-2.0-flash.\n",
            "INFO:vertexai.evaluation._evaluation:Multithreaded Batch Inference took: 2.6002977230000397 seconds.\n",
            "INFO:vertexai.evaluation._evaluation:Computing metrics with a total of 10 Vertex Gen AI Evaluation Service API requests.\n",
            "  0%|          | 0/10 [00:00<?, ?it/s]"
          ]
        }
      ],
      "source": [
        "pointwise_result = EvalTask(\n",
        "    dataset=dataset,\n",
        "    metrics=[POINTWISE_METRIC],\n",
        ").evaluate(\n",
        "    model=model,\n",
        "    prompt_template=\"# System_prompt\\n{system_prompt} # Question\\n{question}\",\n",
        ")"
      ]
    },
    {
      "cell_type": "code",
      "execution_count": null,
      "metadata": {
        "id": "0EwLaPusyeL9"
      },
      "outputs": [],
      "source": [
        "notebook_utils.display_eval_result(pointwise_result)"
      ]
    },
    {
      "cell_type": "code",
      "execution_count": null,
      "metadata": {
        "id": "qsPD-YUWoRYo"
      },
      "outputs": [],
      "source": [
        "notebook_utils.display_explanations(pointwise_result, num=1, metrics=[POINTWISE_METRIC])"
      ]
    },
    {
      "cell_type": "markdown",
      "metadata": {
        "id": "9AzW8Zg71Igs"
      },
      "source": [
        "#### Build your own pointwise metric\n",
        "\n",
        "For more inforamation about metric customization, see this [notebook tutorial](https://colab.research.google.com/github/GoogleCloudPlatform/generative-ai/blob/main/gemini/evaluation/customize_model_based_metrics.ipynb)."
      ]
    },
    {
      "cell_type": "code",
      "execution_count": null,
      "metadata": {
        "id": "1MJdLUJz6H5F"
      },
      "outputs": [],
      "source": [
        "pointwise_result = EvalTask(\n",
        "    dataset=dataset,\n",
        "    metrics=[\n",
        "        # Create a unique model-based metric for your own use cases\n",
        "        PointwiseMetric(\n",
        "            metric=\"linguistic_acceptability\",\n",
        "            metric_prompt_template=PointwiseMetricPromptTemplate(\n",
        "                criteria={\n",
        "                    \"Proper Grammar\": \"The language's grammar rules are correctly followed, including but not limited to sentence structures, verb tenses, subject-verb agreement, proper punctuation, and capitalization.\",\n",
        "                    \"Appropriate word choice\": \"Words chosen are appropriate and purposeful given their relative context and positioning in the text. Vocabulary demonstrates prompt understanding.\",\n",
        "                    \"Reference Alignment\": \"The response is consistent and aligned with the reference.\",\n",
        "                },\n",
        "                rating_rubric={\n",
        "                    \"5\": \"Excellent: The writing is grammatically correct, uses appropriate vocabulary and aligns perfectly with the reference.\",\n",
        "                    \"4\": \"Good: The writing is generally grammatically correct, uses appropriate vocabulary and aligns well with the reference.\",\n",
        "                    \"3\": \"Satisfactory: The writing may have minor grammatical errors or use less-appropriate vocabulary, but it aligns reasonably well with the reference.\",\n",
        "                    \"2\": \"Unsatisfactory: The writing has significant grammatical errors, uses inappropriate vocabulary, deviates significantly from the reference.\",\n",
        "                    \"1\": \"Poor: The writing is riddled with grammatical errors, uses highly inappropriate vocabulary, is completely unrelated to the reference.\",\n",
        "                },\n",
        "                input_variables=[\"prompt\", \"reference\"],\n",
        "            ),\n",
        "        )\n",
        "    ],\n",
        ").evaluate(\n",
        "    model=model,\n",
        "    prompt_template=\"# System_prompt\\n{system_prompt} # Question\\n{question}\",\n",
        ")"
      ]
    },
    {
      "cell_type": "code",
      "execution_count": null,
      "metadata": {
        "id": "UW5DXIGv7oIJ"
      },
      "outputs": [],
      "source": [
        "notebook_utils.display_eval_result(pointwise_result)"
      ]
    },
    {
      "cell_type": "markdown",
      "metadata": {
        "id": "sFHRuWjv86uG"
      },
      "source": [
        "### Use model-based pairwise metrics\n",
        "\n",
        "Evaluate two Gen AI models side-by-side (SxS) with model-based pairwise metrics."
      ]
    },
    {
      "cell_type": "code",
      "execution_count": null,
      "metadata": {
        "id": "E7Eqh9e9MDsa",
        "cellView": "form"
      },
      "outputs": [],
      "source": [
        "# @title Select a pairwise metric to use\n",
        "\n",
        "from IPython.display import display\n",
        "import ipywidgets as widgets\n",
        "\n",
        "pairwise_single_turn_metrics = [\n",
        "    metric\n",
        "    for metric in MetricPromptTemplateExamples.list_example_metric_names()\n",
        "    if metric.startswith(\"pairwise\") and \"multi_turn\" not in metric\n",
        "]\n",
        "\n",
        "dropdown = widgets.Dropdown(\n",
        "    options=pairwise_single_turn_metrics,\n",
        "    description=\"Select a metric:\",\n",
        "    font_weight=\"bold\",\n",
        "    style={\"description_width\": \"initial\"},\n",
        ")\n",
        "\n",
        "\n",
        "def dropdown_eventhandler(change):\n",
        "    global PAIRWISE_METRIC_NAME\n",
        "    if change[\"type\"] == \"change\" and change[\"name\"] == \"value\":\n",
        "        PAIRWISE_METRIC_NAME = change.new\n",
        "        print(\"Selected:\", change.new)\n",
        "\n",
        "\n",
        "PAIRWISE_METRIC_NAME = dropdown.value\n",
        "dropdown.observe(dropdown_eventhandler, names=\"value\")\n",
        "display(dropdown)"
      ]
    },
    {
      "cell_type": "markdown",
      "metadata": {
        "id": "rJd6sF7re5gC"
      },
      "source": [
        "#### Run SxS evaluation"
      ]
    },
    {
      "cell_type": "code",
      "execution_count": null,
      "metadata": {
        "id": "sDAaYDqY9FBu"
      },
      "outputs": [],
      "source": [
        "pairwise_result = EvalTask(\n",
        "    dataset=dataset,\n",
        "    metrics=[\n",
        "        PairwiseMetric(\n",
        "            metric=PAIRWISE_METRIC_NAME,\n",
        "            metric_prompt_template=MetricPromptTemplateExamples.get_prompt_template(\n",
        "                PAIRWISE_METRIC_NAME\n",
        "            ),\n",
        "            # Define a baseline model to compare against\n",
        "            baseline_model=GenerativeModel(\"gemini-2.0-flash-lite\"),\n",
        "        )\n",
        "    ],\n",
        ").evaluate(\n",
        "    # Specify a candidate model for pairwise comparison\n",
        "    model=model,\n",
        "    prompt_template=\"# System_prompt\\n{system_prompt} # Question\\n{question}\",\n",
        ")"
      ]
    },
    {
      "cell_type": "code",
      "execution_count": null,
      "metadata": {
        "id": "bPAoJu53-mfx"
      },
      "outputs": [],
      "source": [
        "notebook_utils.display_eval_result(\n",
        "    pairwise_result,\n",
        "    title=\"Gemini-2.0-Flash vs. Gemini-2.0-Flash-Lite SxS Pairwise Evaluation Results\",\n",
        ")"
      ]
    },
    {
      "cell_type": "markdown",
      "metadata": {
        "id": "olbyG8ZVOvFq"
      },
      "source": [
        "## Run evaluation on 3P Models\n",
        "\n",
        "The *Vertex Gen AI Evaluation Service SDK* provides robust support for evaluating third-party (3P) models, allowing you to assess and compare models from various sources. The *Gen AI Evaluation Service SDK* allows you to provide a generic Python function as input to specify how the model/application should be invoked for batch inference, which could be done through an endpoint or an SDK. This flexible approach accommodates a wide range of open and closed models.\n",
        "\n",
        "**Open Models:**\n",
        "\n",
        "Evaluate open models like a pre-trained `Llama 3.1` or a fine-tuned `Llama 3` models deployed with Vertex AI Model Garden using the *Gen AI Evaluation Service SDK*. This enables you to assess the performance of these models and understand how they align with your specific requirements.\n",
        "\n",
        "**Closed Models:**\n",
        "\n",
        "Evaluate the performance of closed model APIs, such as Anthropic's `Claude 3.5 Sonnet`, hosted on Vertex AI. This allows you to compare the capabilities of different closed models and make informed decisions about which best suits your needs."
      ]
    },
    {
      "cell_type": "code",
      "execution_count": null,
      "metadata": {
        "id": "HXfM_yJwiuh3"
      },
      "outputs": [],
      "source": [
        "# Define an EvalTask with a list of metrics\n",
        "pointwise_eval_task = EvalTask(\n",
        "    dataset=dataset,\n",
        "    metrics=[\n",
        "        \"coherence\",\n",
        "        \"fluency\",\n",
        "        \"instruction_following\",\n",
        "        \"text_quality\",\n",
        "        \"rouge_l_sum\",\n",
        "    ],\n",
        ")"
      ]
    },
    {
      "cell_type": "markdown",
      "metadata": {
        "id": "UGokrtdiIHrX"
      },
      "source": [
        "### Run Evaluation on Llama 3.1 API Endpoint\n",
        "\n",
        "You can experiment with various supported Llama models.\n",
        "\n",
        "This tutorial use Llama 3 8B Instruct, 70B Instruct, and 405B Instruct using Model-as-a-Service (MaaS). Using Model-as-a-Service (MaaS), you can access Llama 3.1 models in just a few clicks without any setup or infrastructure hassles. Model-as-a-Service (MaaS) integrates [Llama Guard](https://huggingface.co/meta-llama/Llama-Guard-3-8B) as a safety filter. It is switched on by default and can be switched off. Llama Guard enables us to safeguard model inputs and outputs. If a response is filtered, it will be populated with a `finish_reason` field (with value `content_filtered`) and a `refusal` field (stating the filtering reason).\n",
        "\n",
        "You can also access Llama models for self-service in Vertex AI Model Garden, allowing you to choose your preferred infrastructure. [Check out Llama 3.1 model card](https://console.cloud.google.com/vertex-ai/publishers/meta/model-garden/llama3_1?_ga=2.31261500.2048242469.1721714335-1107467625.1721655511) to learn how to deploy a Llama 3.1 models on Vertex AI."
      ]
    },
    {
      "cell_type": "code",
      "execution_count": null,
      "metadata": {
        "id": "r7OhyH46H2H5"
      },
      "outputs": [],
      "source": [
        "MODEL_ID = \"meta/llama-3.1-8b-instruct-maas\"  # @param {type:\"string\"} [\"meta/llama-3.1-8b-instruct-maas\", \"meta/llama-3.1-70b-instruct-maas\", \"meta/llama-3.1-405b-instruct-maas\"]"
      ]
    },
    {
      "cell_type": "markdown",
      "metadata": {
        "id": "KUgMmggOa_TG"
      },
      "source": [
        "#### Authentication\n",
        "\n",
        "You can request an access token from the default credentials for the current environment. Note that the access token lives for [1 hour by default](https://cloud.google.com/docs/authentication/token-types#at-lifetime); after expiration, it must be refreshed.\n"
      ]
    },
    {
      "cell_type": "code",
      "execution_count": null,
      "metadata": {
        "id": "OT03q0Oqa86s"
      },
      "outputs": [],
      "source": [
        "credentials, _ = default()\n",
        "auth_request = transport.requests.Request()\n",
        "credentials.refresh(auth_request)"
      ]
    },
    {
      "cell_type": "markdown",
      "metadata": {
        "id": "PtpB2ig9bCxs"
      },
      "source": [
        "Then configure the OpenAI SDK to point to the Llama 3.1 API endpoint.\n",
        "\n",
        "Note: only `us-central1` is supported region for Llama 3.1 models using Model-as-a-Service (MaaS)."
      ]
    },
    {
      "cell_type": "code",
      "execution_count": null,
      "metadata": {
        "id": "5TazdE-CbEdW"
      },
      "outputs": [],
      "source": [
        "MODEL_LOCATION = \"us-central1\"\n",
        "\n",
        "client = openai.OpenAI(\n",
        "    base_url=f\"https://{MODEL_LOCATION}-aiplatform.googleapis.com/v1beta1/projects/{PROJECT_ID}/locations/{MODEL_LOCATION}/endpoints/openapi/chat/completions?\",\n",
        "    api_key=credentials.token,\n",
        ")"
      ]
    },
    {
      "cell_type": "markdown",
      "metadata": {
        "id": "zMPNCDTsbqwc"
      },
      "source": [
        "#### Set model configurations for Llama 3.1\n",
        "\n",
        "Use the following parameters to generate different answers:\n",
        "\n",
        "*   `temperature` to control the randomness of the response\n",
        "*   `max_tokens` to limit the response length\n",
        "*   `top_p` to control the quality of the response"
      ]
    },
    {
      "cell_type": "code",
      "execution_count": null,
      "metadata": {
        "cellView": "form",
        "id": "VxQbGCHHbnot"
      },
      "outputs": [],
      "source": [
        "temperature = 1.0  # @param {type:\"number\"}\n",
        "max_tokens = 50  # @param {type:\"integer\"}\n",
        "top_p = 1.0  # @param {type:\"number\"}\n",
        "apply_llama_guard = True  # @param {type:\"boolean\"}\n",
        "\n",
        "response = client.chat.completions.create(\n",
        "    model=MODEL_ID,\n",
        "    messages=[{\"role\": \"user\", \"content\": \"Hello, Llama 3.1!\"}],\n",
        "    extra_body={\n",
        "        \"extra_body\": {\n",
        "            \"google\": {\n",
        "                \"model_safety_settings\": {\n",
        "                    \"enabled\": apply_llama_guard,\n",
        "                    \"llama_guard_settings\": {},\n",
        "                }\n",
        "            }\n",
        "        }\n",
        "    },\n",
        ")\n",
        "print(response.choices[0].message.content)"
      ]
    },
    {
      "cell_type": "markdown",
      "metadata": {
        "id": "wqoSsvMlcYPM"
      },
      "source": [
        "#### Define the Llama 3.1 Model Function"
      ]
    },
    {
      "cell_type": "code",
      "execution_count": null,
      "metadata": {
        "id": "CdiP_zMWbzp0"
      },
      "outputs": [],
      "source": [
        "def llama_model_fn(prompt: str) -> str:\n",
        "    response = client.chat.completions.create(\n",
        "        model=MODEL_ID,\n",
        "        messages=[{\"role\": \"user\", \"content\": prompt}],\n",
        "        temperature=temperature,\n",
        "        max_tokens=max_tokens,\n",
        "        top_p=top_p,\n",
        "        extra_body={\n",
        "            \"extra_body\": {\n",
        "                \"google\": {\n",
        "                    \"model_safety_settings\": {\n",
        "                        \"enabled\": apply_llama_guard,\n",
        "                        \"llama_guard_settings\": {},\n",
        "                    }\n",
        "                }\n",
        "            }\n",
        "        },\n",
        "    )\n",
        "    return response.choices[0].message.content"
      ]
    },
    {
      "cell_type": "markdown",
      "metadata": {
        "id": "nmtUTC1jTZT2"
      },
      "source": [
        "#### Run evaluation on Llama 3.1 API Service"
      ]
    },
    {
      "cell_type": "code",
      "execution_count": null,
      "metadata": {
        "id": "1are_m2DTZT2"
      },
      "outputs": [],
      "source": [
        "llama_result = pointwise_eval_task.evaluate(\n",
        "    model=llama_model_fn,\n",
        "    prompt_template=\"# System_prompt\\n{system_prompt} # Question\\n{question}\",\n",
        ")"
      ]
    },
    {
      "cell_type": "code",
      "execution_count": null,
      "metadata": {
        "id": "gD3zu0LLTZT2"
      },
      "outputs": [],
      "source": [
        "notebook_utils.display_eval_result(\n",
        "    llama_result, title=\"Llama 3.1 API Service Evaluation Results\"\n",
        ")"
      ]
    },
    {
      "cell_type": "code",
      "execution_count": null,
      "metadata": {
        "id": "BUWSXVToTZT2"
      },
      "outputs": [],
      "source": [
        "notebook_utils.display_explanations(llama_result, num=1)"
      ]
    },
    {
      "cell_type": "markdown",
      "metadata": {
        "id": "qS2BpbzMIpZc"
      },
      "source": [
        "### Run Evaluation on Claude 3\n"
      ]
    },
    {
      "cell_type": "code",
      "source": [],
      "metadata": {
        "id": "37MUTp_nSghv"
      },
      "execution_count": null,
      "outputs": []
    },
    {
      "cell_type": "code",
      "execution_count": null,
      "metadata": {
        "cellView": "form",
        "id": "4j9taDaPJHy9"
      },
      "outputs": [],
      "source": [
        "MODEL = \"claude-3-5-sonnet@20240620\"  # @param [\"claude-3-5-sonnet@20240620\", \"claude-3-opus@20240229\", \"claude-3-haiku@20240307\", \"claude-3-sonnet@20240229\" ]\n",
        "if MODEL == \"claude-3-5-sonnet@20240620\":\n",
        "    available_regions = [\"europe-west1\", \"us-east5\"]\n",
        "elif MODEL == \"claude-3-opus@20240229\":\n",
        "    available_regions = [\"us-east5\"]\n",
        "elif MODEL == \"claude-3-haiku@20240307\":\n",
        "    available_regions = [\"us-east5\", \"europe-west1\"]\n",
        "elif MODEL == \"claude-3-sonnet@20240229\":\n",
        "    available_regions = [\"us-east5\"]\n",
        "\n",
        "dropdown = widgets.Dropdown(\n",
        "    options=available_regions,\n",
        "    description=\"Select a location:\",\n",
        "    font_weight=\"bold\",\n",
        "    style={\"description_width\": \"initial\"},\n",
        ")\n",
        "\n",
        "\n",
        "def dropdown_eventhandler(change):\n",
        "    global LOCATION\n",
        "    if change[\"type\"] == \"change\" and change[\"name\"] == \"value\":\n",
        "        LOCATION = change.new\n",
        "        print(\"Selected:\", change.new)\n",
        "\n",
        "\n",
        "LOCATION = dropdown.value\n",
        "dropdown.observe(dropdown_eventhandler, names=\"value\")\n",
        "display(dropdown)"
      ]
    },
    {
      "cell_type": "markdown",
      "metadata": {
        "id": "lVbFk9pSd6L0"
      },
      "source": [
        "#### Define the Claude 3 Model Function"
      ]
    },
    {
      "cell_type": "code",
      "execution_count": null,
      "metadata": {
        "id": "jKLjm0o3KwEI"
      },
      "outputs": [],
      "source": [
        "def anthropic_claude_model_fn(prompt):\n",
        "    client = AnthropicVertex(region=LOCATION, project_id=PROJECT_ID)\n",
        "    message = client.messages.create(\n",
        "        max_tokens=1024,\n",
        "        messages=[\n",
        "            {\n",
        "                \"role\": \"user\",\n",
        "                \"content\": f\"{prompt}\",\n",
        "            }\n",
        "        ],\n",
        "        model=MODEL,\n",
        "    )\n",
        "    response = message.content[0].text\n",
        "    return response"
      ]
    },
    {
      "cell_type": "markdown",
      "metadata": {
        "id": "N73OcARGgMUT"
      },
      "source": [
        "#### Run evaluation on Claude 3 Model"
      ]
    },
    {
      "cell_type": "code",
      "execution_count": null,
      "metadata": {
        "id": "gdGUsc7gIpZi"
      },
      "outputs": [],
      "source": [
        "claude_result = pointwise_eval_task.evaluate(\n",
        "    model=anthropic_claude_model_fn,\n",
        "    prompt_template=\"# System_prompt\\n{system_prompt} # Question\\n{question}\",\n",
        ")"
      ]
    },
    {
      "cell_type": "code",
      "execution_count": null,
      "metadata": {
        "id": "_URkaZhYIpZi"
      },
      "outputs": [],
      "source": [
        "notebook_utils.display_eval_result(claude_result, title=\"Claude 3 Evaluation Results\")"
      ]
    },
    {
      "cell_type": "code",
      "execution_count": null,
      "metadata": {
        "id": "38IJUEXthXsE"
      },
      "outputs": [],
      "source": [
        "notebook_utils.display_explanations(claude_result, num=1)"
      ]
    },
    {
      "cell_type": "code",
      "source": [
        "from google.colab import drive\n",
        "drive.mount('/content/drive')"
      ],
      "metadata": {
        "id": "3N7oRzf3S_wE"
      },
      "execution_count": null,
      "outputs": []
    },
    {
      "cell_type": "markdown",
      "source": [
        "# ส่วนใหม่"
      ],
      "metadata": {
        "id": "5prIZui2TTpo"
      }
    },
    {
      "cell_type": "markdown",
      "metadata": {
        "id": "yLHuqe2D-x81"
      },
      "source": [
        "## Prompt Engineering"
      ]
    },
    {
      "cell_type": "markdown",
      "metadata": {
        "id": "cd393d80e252"
      },
      "source": [
        "The *Vertex AI Gen AI Evaluation Service SDK* simplifies prompt engineering by streamlining the process of creating and evaluating multiple prompt templates. It allows you to efficiently test different prompts against a chosen dataset and compare their performance using comprehensive evaluation metrics. This empowers you to identify the most effective prompts for your specific use case and optimize your generative AI applications."
      ]
    },
    {
      "cell_type": "markdown",
      "metadata": {
        "id": "5261f69b615a"
      },
      "source": [
        "###  Compare and optimize prompt template design"
      ]
    },
    {
      "cell_type": "markdown",
      "metadata": {
        "id": "7d01f70c3163"
      },
      "source": [
        "#### Define an evaluation dataset\n"
      ]
    },
    {
      "cell_type": "markdown",
      "metadata": {
        "id": "2157353f3309"
      },
      "source": [
        "To perform pointwise inference, the evaluation dataset is required to contain the following fields:\n",
        "\n",
        "* Instruction: Part of the input user prompt. It refers to the inference instruction that is sent to your LLM.\n",
        "* Context: User input for the Gen AI model or application in the current turn.\n",
        "* Reference: The ground truth to compare your LLM response to.\n",
        "\n",
        "Your dataset must include a minimum of one evaluation example. We recommend around 100 examples to ensure high-quality aggregated metrics and statistically significant results."
      ]
    },
    {
      "cell_type": "code",
      "execution_count": null,
      "metadata": {
        "id": "972ebabb2712"
      },
      "outputs": [],
      "source": [
        "instruction = \"Summarize the following article: \\n\"\n",
        "\n",
        "context = [\n",
        "    \"Typhoon Phanfone has killed at least one person, a US airman on Okinawa who was washed away by high waves. Thousands of households have lost power and Japan's two largest airlines have suspended many flights. The storm also forced the suspension of the search for people missing after last week's volcanic eruption. The storm-tracking website Tropical Storm Risk forecasts that Phanfone will rapidly lose power over the next few hours as it goes further into the Pacific Ocean. Typhoon Phanfone was downgraded from an earlier status of a super typhoon, but the Japan Meteorological Agency had warned it was still a dangerous storm. Japan averages 11 typhoons a year, according to its weather agency. The typhoon made landfall on Monday morning near the central city of Hamamatsu, with winds of up to 180 km/h (112 mph). The airman was one of three US military personnel swept away by high waves whipped up by the typhoon off southern Okinawa island, where the US has a large military base. The remaining two are still missing. A police spokesman said they had been taking photographs of the sea. A university student who was surfing off the seas of Kanagawa Prefecture, south of Tokyo, was also missing, national broadcast NHK reports. It said at least 10 people had been injured and 9,500 houses were without power. The storm was expected to deposit about 100mm of rain on Tokyo over 24 hours, according to the Transport Ministry website. Many schools were closed on Monday and two car companies in Japan halted production at some plants ahead of the storm. More than 174 domestic flights were affected nationwide, NHK state broadcaster said on Sunday. On Sunday, heavy rain delayed the Japanese Formula One Grand Prix in Suzaka. French driver Jules Bianchi lost control in the wet conditions and crashed, sustaining a severe head injury.\",\n",
        "    \"The blaze started at the detached building in Drivers End in Codicote, near Welwyn, during the morning. There was another fire at the building 20 years ago, after which fire-proof foil was placed under the thatch, which is protecting the main building. More than 15 fire engines and support vehicles were called to tackle the blaze. Roads in the area were closed and traffic diverted.\",\n",
        "    'The 18-year-old fell at the New Charter Academy on Broadoak Road in Ashton-under-Lyne at about 09:10 BST, Greater Manchester Police (GMP) said. GMP said he had gone to Manchester Royal Infirmary and his condition was \"serious\". Principal Jenny Langley said the school would remain \"fully open\" while police investigated. \"Our thoughts are with the family and we\\'re doing everything we can to support them along with staff and pupils,\" she said.',\n",
        "    'But Belgian-born Dutchman Max Verstappen was unable to drive a car legally on his own in either country. That all changed on Wednesday when the youngster turned 18 and passed his driving test at the first attempt. Despite having competed in 14 grands prix since his debut in Australia in March, Verstappen admitted to feeling the pressure during his test. \"It\\'s a relief,\" said the Toro Rosso driver, who finished ninth in Japan on Sunday and had only started driving lessons a week ago. \"I was a bit nervous to make mistakes, but the exam went well.\" A bonus of turning 18 is that Verstappen will now be able to drink the champagne if he ever makes it onto the podium.',\n",
        "]\n",
        "\n",
        "reference = [\n",
        "    \"A powerful typhoon has brought many parts of Japan to a standstill and briefly battered Tokyo before heading out to sea.\",\n",
        "    \"A major fire has been burning in the thatched roof of a large property in Hertfordshire.\",\n",
        "    \"A student has been taken to hospital after falling from a balcony at a Greater Manchester school.\",\n",
        "    \"He is Formula 1's youngest ever driver and in charge of a car that can reach over 200mph.\",\n",
        "]\n",
        "\n",
        "response = [\n",
        "    \"Typhoon Phanfone, while downgraded from super typhoon status, caused significant disruption and tragedy in Japan. One US airman died after being swept away by high waves, with two more missing. The storm caused power outages for thousands, flight cancellations, and the suspension of rescue efforts for missing volcano victims. Heavy rain and strong winds led to school and factory closures, transportation disruptions, and at least 10 injuries. The typhoon is expected to weaken as it moves over the Pacific Ocean.\",\n",
        "    \"A large fire broke out in a detached thatched building in Codicote, near Welwyn. This is the second fire at the building in 20 years. Thankfully, fire-proof foil installed after the previous fire is protecting the main building. Over 15 fire engines and support vehicles responded, closing roads and diverting traffic in the area.\",\n",
        "    \"An 18-year-old student at New Charter Academy in Ashton-under-Lyne suffered a serious fall and was hospitalized. The incident is under investigation by Greater Manchester Police, but the school remains open. The principal expressed support for the student's family and the school community.\",\n",
        "    \"Max Verstappen, a Formula One driver, was finally able to get his driver's license at age 18. Despite already competing in 14 Grand Prix races, he was not of legal driving age in his native countries. He admitted to being nervous but passed the test on his first attempt.  As an added bonus of turning 18, Verstappen can now enjoy champagne on the podium if he places.\",\n",
        "]\n",
        "\n",
        "eval_dataset = pd.DataFrame(\n",
        "    {\n",
        "        \"instruction\": instruction,\n",
        "        \"context\": context,\n",
        "        \"reference\": reference,\n",
        "    }\n",
        ")"
      ]
    },
    {
      "cell_type": "markdown",
      "metadata": {
        "id": "c3c1121684f5"
      },
      "source": [
        "#### Define an EvalTask"
      ]
    },
    {
      "cell_type": "code",
      "execution_count": null,
      "metadata": {
        "id": "052ec86e5777"
      },
      "outputs": [],
      "source": [
        "EXPERIMENT_NAME = \"eval-sdk-prompt-engineering\"  # @param {type:\"string\"}\n",
        "\n",
        "summarization_eval_task = EvalTask(\n",
        "    dataset=eval_dataset,\n",
        "    metrics=[\n",
        "        \"rouge_l_sum\",\n",
        "        \"bleu\",\n",
        "        \"fluency\",\n",
        "        \"coherence\",\n",
        "        \"safety\",\n",
        "        \"groundedness\",\n",
        "        \"summarization_quality\",\n",
        "        \"verbosity\",\n",
        "        \"instruction_following\",\n",
        "        \"text_quality\",\n",
        "    ],\n",
        "    experiment=EXPERIMENT_NAME,\n",
        ")"
      ]
    },
    {
      "cell_type": "markdown",
      "metadata": {
        "id": "515fe8c3652f"
      },
      "source": [
        "#### Run Evaluation"
      ]
    },
    {
      "cell_type": "code",
      "execution_count": null,
      "metadata": {
        "id": "2b8422213915"
      },
      "outputs": [],
      "source": [
        "# Define prompt templates to compare\n",
        "prompt_templates = [\n",
        "    \"Instruction: {instruction} such that you're explaining it to a 5 year old. Article: {context}. Summary:\",\n",
        "    \"Article: {context}. Complete this task: {instruction}. Summary:\",\n",
        "    \"Goal: {instruction} and give me a TL;DR in five words. Here's an article: {context}. Summary:\",\n",
        "    \"Article: {context}. Reference Summary: {reference}. {instruction} to be more concise and verbose than the reference.\",\n",
        "]\n",
        "\n",
        "eval_results = []\n",
        "for i, prompt_template in enumerate(prompt_templates):\n",
        "    eval_result = summarization_eval_task.evaluate(\n",
        "        prompt_template=prompt_template,\n",
        "        model=GenerativeModel(\n",
        "            \"gemini-2.0-flash\",\n",
        "            generation_config={\n",
        "                \"temperature\": 0.3,\n",
        "                \"max_output_tokens\": 256,\n",
        "                \"top_k\": 1,\n",
        "            },\n",
        "        ),\n",
        "        # Customize eval service rate limit to improve speed.\n",
        "        # See more details in https://cloud.google.com/vertex-ai/generative-ai/docs/models/run-evaluation#increase-quota\n",
        "        evaluation_service_qps=5,\n",
        "    )\n",
        "\n",
        "    eval_results.append((f\"Prompt Template #{i+1}\", eval_result))"
      ]
    },
    {
      "cell_type": "markdown",
      "metadata": {
        "id": "ec6e97cf9f27"
      },
      "source": [
        "#### Display Evaluation report and explanations"
      ]
    },
    {
      "cell_type": "code",
      "execution_count": null,
      "metadata": {
        "id": "d3724b416b39"
      },
      "outputs": [],
      "source": [
        "for title, eval_result in eval_results:\n",
        "    notebook_utils.display_eval_result(title=title, eval_result=eval_result)"
      ]
    },
    {
      "cell_type": "code",
      "execution_count": null,
      "metadata": {
        "id": "0615d0925469"
      },
      "outputs": [],
      "source": [
        "for title, eval_result in eval_results:\n",
        "    notebook_utils.display_explanations(\n",
        "        eval_result, metrics=[\"summarization_quality\"], num=2\n",
        "    )"
      ]
    },
    {
      "cell_type": "markdown",
      "metadata": {
        "id": "GzWSUPj2oV-_"
      },
      "source": [
        "#### Visualize Results"
      ]
    },
    {
      "cell_type": "code",
      "execution_count": null,
      "metadata": {
        "id": "SSDyxE2aoYMH"
      },
      "outputs": [],
      "source": [
        "notebook_utils.display_radar_plot(\n",
        "    eval_results,\n",
        "    metrics=[\"instruction_following\", \"fluency\", \"coherence\", \"text_quality\"],\n",
        ")"
      ]
    },
    {
      "cell_type": "code",
      "execution_count": null,
      "metadata": {
        "id": "Id5sjYHboZHh"
      },
      "outputs": [],
      "source": [
        "notebook_utils.display_bar_plot(\n",
        "    eval_results,\n",
        "    metrics=[\"instruction_following\", \"fluency\", \"coherence\", \"text_quality\"],\n",
        ")"
      ]
    },
    {
      "cell_type": "markdown",
      "metadata": {
        "id": "ed966819648e"
      },
      "source": [
        "####  View Experiment log for evaluation runs"
      ]
    },
    {
      "cell_type": "code",
      "execution_count": null,
      "metadata": {
        "id": "363c1b2553b9"
      },
      "outputs": [],
      "source": [
        "summarization_eval_task.display_runs()"
      ]
    },
    {
      "cell_type": "markdown",
      "metadata": {
        "id": "d7cce28cc97e"
      },
      "source": [
        "## Cleaning up"
      ]
    },
    {
      "cell_type": "code",
      "execution_count": null,
      "metadata": {
        "id": "ef73672573e1"
      },
      "outputs": [],
      "source": [
        "delete_experiment = True\n",
        "\n",
        "# Please set your LOCATION to the same one used during Vertex AI SDK initialization.\n",
        "LOCATION = \"us-central1\"  # @param {type:\"string\"}\n",
        "\n",
        "if delete_experiment:\n",
        "\n",
        "    from google.cloud import aiplatform\n",
        "\n",
        "    aiplatform.init(project=PROJECT_ID, location=LOCATION)\n",
        "    experiment = aiplatform.Experiment(EXPERIMENT_NAME)\n",
        "    experiment.delete()"
      ]
    },
    {
      "cell_type": "markdown",
      "metadata": {
        "id": "2b1eb4cf"
      },
      "source": [
        "# Task\n",
        "เทรนโมเดล AI"
      ]
    },
    {
      "cell_type": "markdown",
      "metadata": {
        "id": "df5ef0b5"
      },
      "source": [
        "## เตรียมข้อมูล\n",
        "\n",
        "### Subtask:\n",
        "รวบรวมและทำความสะอาดข้อมูลที่จะใช้ในการเทรนโมเดล ตรวจสอบให้แน่ใจว่าข้อมูลอยู่ในรูปแบบที่เหมาะสมและมีคุณภาพดี\n"
      ]
    },
    {
      "cell_type": "markdown",
      "metadata": {
        "id": "a93e32d1"
      },
      "source": [
        "**Reasoning**:\n",
        "The first step is to load the dataset that will be used for training the model. The available files show 'namo_train_dataset.csv', which is likely the training data. I will load this CSV file into a pandas DataFrame and display the first few rows and information about the data to get an initial understanding of its structure and identify potential issues like missing values or incorrect data types.\n",
        "\n"
      ]
    },
    {
      "cell_type": "code",
      "metadata": {
        "id": "07ca4802"
      },
      "source": [
        "df_train = pd.read_csv('/content/namo_train_dataset.csv')\n",
        "display(df_train.head())\n",
        "display(df_train.info())"
      ],
      "execution_count": null,
      "outputs": []
    }
  ],
  "metadata": {
    "colab": {
      "collapsed_sections": [
        "tfQ7sPtOjZOw",
        "F_Gw6YLeOvFq"
      ],
      "name": "evaluate_models_in_vertex_ai_studio_and_model_garden.ipynb",
      "toc_visible": true,
      "provenance": []
    },
    "kernelspec": {
      "display_name": "Python 3",
      "name": "python3"
    },
    "widgets": {
      "application/vnd.jupyter.widget-state+json": {
        "9bc6e8e9c44b420c8651375d71d00e09": {
          "model_module": "@jupyter-widgets/controls",
          "model_name": "DropdownModel",
          "model_module_version": "1.5.0",
          "state": {
            "_dom_classes": [],
            "_model_module": "@jupyter-widgets/controls",
            "_model_module_version": "1.5.0",
            "_model_name": "DropdownModel",
            "_options_labels": [
              "coherence",
              "fluency",
              "safety",
              "groundedness",
              "instruction_following",
              "verbosity",
              "text_quality",
              "summarization_quality",
              "question_answering_quality"
            ],
            "_view_count": null,
            "_view_module": "@jupyter-widgets/controls",
            "_view_module_version": "1.5.0",
            "_view_name": "DropdownView",
            "description": "Select a metric:",
            "description_tooltip": null,
            "disabled": false,
            "index": 0,
            "layout": "IPY_MODEL_5bfe0240bf1647958a3be7eb40ba7a3f",
            "style": "IPY_MODEL_ef51f556435941b0b53d47fd602df2c8"
          }
        },
        "5bfe0240bf1647958a3be7eb40ba7a3f": {
          "model_module": "@jupyter-widgets/base",
          "model_name": "LayoutModel",
          "model_module_version": "1.2.0",
          "state": {
            "_model_module": "@jupyter-widgets/base",
            "_model_module_version": "1.2.0",
            "_model_name": "LayoutModel",
            "_view_count": null,
            "_view_module": "@jupyter-widgets/base",
            "_view_module_version": "1.2.0",
            "_view_name": "LayoutView",
            "align_content": null,
            "align_items": null,
            "align_self": null,
            "border": null,
            "bottom": null,
            "display": null,
            "flex": null,
            "flex_flow": null,
            "grid_area": null,
            "grid_auto_columns": null,
            "grid_auto_flow": null,
            "grid_auto_rows": null,
            "grid_column": null,
            "grid_gap": null,
            "grid_row": null,
            "grid_template_areas": null,
            "grid_template_columns": null,
            "grid_template_rows": null,
            "height": null,
            "justify_content": null,
            "justify_items": null,
            "left": null,
            "margin": null,
            "max_height": null,
            "max_width": null,
            "min_height": null,
            "min_width": null,
            "object_fit": null,
            "object_position": null,
            "order": null,
            "overflow": null,
            "overflow_x": null,
            "overflow_y": null,
            "padding": null,
            "right": null,
            "top": null,
            "visibility": null,
            "width": null
          }
        },
        "ef51f556435941b0b53d47fd602df2c8": {
          "model_module": "@jupyter-widgets/controls",
          "model_name": "DescriptionStyleModel",
          "model_module_version": "1.5.0",
          "state": {
            "_model_module": "@jupyter-widgets/controls",
            "_model_module_version": "1.5.0",
            "_model_name": "DescriptionStyleModel",
            "_view_count": null,
            "_view_module": "@jupyter-widgets/base",
            "_view_module_version": "1.2.0",
            "_view_name": "StyleView",
            "description_width": "initial"
          }
        }
      }
    }
  },
  "nbformat": 4,
  "nbformat_minor": 0
}